{
  "nbformat": 4,
  "nbformat_minor": 0,
  "metadata": {
    "colab": {
      "provenance": []
    },
    "kernelspec": {
      "name": "python3",
      "display_name": "Python 3"
    },
    "language_info": {
      "name": "python"
    },
    "gpuClass": "standard"
  },
  "cells": [
    {
      "cell_type": "markdown",
      "source": [
        "# Информация по тестовому заданию"
      ],
      "metadata": {
        "id": "xvAwCk870m-J"
      }
    },
    {
      "cell_type": "markdown",
      "source": [
        "## Вводная часть"
      ],
      "metadata": {
        "id": "zO78Ez0t0qnV"
      }
    },
    {
      "cell_type": "markdown",
      "source": [
        "В Контуре мы много работаем с документами: арбитражные иски, госзакупки, исполнительные производства. В данном задании мы предлагаем вам сделать модель, которая поможет отделу госзакупок извлекать \n",
        "нужный кусок текста из документа для того, чтобы сформировать анкету заявки. То, какой именно фрагмент текста нужно извлечь, зависит от пункта анкеты, соответствующего документу.\n",
        "Всего в каждом документе, с которыми вы будет работать, есть 1 из 2-х пунктов анкеты, по которым необходимо извлекать кусочки из текста:\n",
        "- обеспечение исполнения контракта\n",
        "- обеспечение гарантийных обязательств\n",
        "\n",
        "Соответственно, ваша модель, принимая на вход `текст документа` и `наименование одного из двух пунктов`, должна возвращать `соответствующий кусочек текста из текста документа`."
      ],
      "metadata": {
        "id": "mrNyCBBU0n0w"
      }
    },
    {
      "cell_type": "markdown",
      "source": [
        "## Данные"
      ],
      "metadata": {
        "id": "YJVZ6hkp0t4T"
      }
    },
    {
      "cell_type": "markdown",
      "source": [
        "### train.json"
      ],
      "metadata": {
        "id": "DCqUZHYf0wYR"
      }
    },
    {
      "cell_type": "markdown",
      "source": [
        "Данные для обучения в формате json имеют следующие поля:\n",
        "- `id`: int - id документа\n",
        "-  `text`: str - текст документа, в котором может содержаться фрагмент текста, соответствующий пункту анкеты из поля `label`\n",
        "- `label`: str - название пункта анкеты. Может принимать одно из двух значений: `обеспечение исполнения контракта` или `обеспечение гарантийных обязательств`\n",
        "- `extracted_part`: dict следующего формата:\n",
        "    ```\n",
        "    {\n",
        "        'text': [фрагмент текста из поля `text`, соответствующий пункту анкеты], \n",
        "        'answer_start': [индекс символа начала фрагмента текста в тексте документа],\n",
        "        'answer_end': [индекс символа конца фрагмента текста в тексте документа]\n",
        "    }\n",
        "   ```"
      ],
      "metadata": {
        "id": "0Y13EK8o0y5y"
      }
    },
    {
      "cell_type": "markdown",
      "source": [
        "### test.json"
      ],
      "metadata": {
        "id": "IdRVcu8n01TQ"
      }
    },
    {
      "cell_type": "markdown",
      "source": [
        "Для демонстрации работы модели используйте данные из файла `test.json`. В нем есть все те же поля, что и в файле `train.json`, кроме поля `extracted_part` - именно его вам и нужно будет добавить,\n",
        "для того, чтобы мы смогли оценить качество вашей модели."
      ],
      "metadata": {
        "id": "ZjELKQso04Dp"
      }
    },
    {
      "cell_type": "markdown",
      "source": [
        "## Тестовое задание"
      ],
      "metadata": {
        "id": "Fo16uUuqMUHl"
      }
    },
    {
      "cell_type": "markdown",
      "source": [
        "Для выполнения тестового задания требуется разработать модель, которая будет способна по паре `текст документа` и `пункт анкеты` извлекать из текста документа нужный фрагмент текста. \n",
        "Обучив модель, добавьте в файл `test.json` поле `extracted_part` в том же формате, что и в файле `train.json`. Новый файл назовите `predictions.json`\n",
        "\n",
        "**Подсказка**: изучив данные, вы можете заметить, что у части наблюдений отсутствует фрагмент текста к извлечению (пустая строка внутри поля `extracted_part` с `answer_start` и\n",
        "`answer_end` равными нулю). Это означает, что в тексте документа нет нужного фрагмента текста, соответствующего пункту анкеты. Учтите это в обучении вашей модели и при формировании\n",
        "файла с ответами."
      ],
      "metadata": {
        "id": "PmIjGw91NcRa"
      }
    },
    {
      "cell_type": "markdown",
      "source": [
        "## Критерии оценки\n"
      ],
      "metadata": {
        "id": "QfNpiJV7NjQX"
      }
    },
    {
      "cell_type": "markdown",
      "source": [
        "1. Для оценки финального решения будет использоваться метрика `Accuracy`: доля наблюдений, в которых извлеченный моделью фрагмент текста полностью соответствует фактически\n",
        "   требуемому фрагменту.\n",
        "2. Чистота кода, оформление и понятность исследования."
      ],
      "metadata": {
        "id": "zoLa0vDZNnN-"
      }
    },
    {
      "cell_type": "markdown",
      "source": [
        "## Требования к решению"
      ],
      "metadata": {
        "id": "bR9E7dM-NzQY"
      }
    },
    {
      "cell_type": "markdown",
      "source": [
        "В качестве решения мы ожидаем zip-архив со всеми *.py и *.ipynb файлами в папке solution и файлом `predictions.json` в корне. Формат имени zip-архива: LastName_FirstName.zip (пример Ivanov_Ivan.zip).\n",
        "Файл `predictions.json` должен включать в себя колонки `id`, `text`, `label`, содержащие те же данные, что и исходный файл `test.json`, а также колонку `extracted_part` в том же\n",
        "формате, что и в файле `train.json`\n",
        "Разметка тестового набора данных и включение его в обучение/валидацию запрещены.\n",
        "\n",
        "В папке solution должно быть отражено исследование и весь код, необходимый для воспроизведения исследования.\n",
        "\n",
        "Успехов!"
      ],
      "metadata": {
        "id": "_x4utFLfNpUg"
      }
    },
    {
      "cell_type": "markdown",
      "source": [
        "# Решение задачи"
      ],
      "metadata": {
        "id": "K7bLQgGkNtDd"
      }
    },
    {
      "cell_type": "markdown",
      "source": [
        "## Загрузка и анализ данных"
      ],
      "metadata": {
        "id": "xjWuvHUt29xN"
      }
    },
    {
      "cell_type": "code",
      "execution_count": 1,
      "metadata": {
        "id": "fNNtu7IaiefU",
        "colab": {
          "base_uri": "https://localhost:8080/"
        },
        "outputId": "ea67e1f8-268c-4f55-c982-2f92cbac1b85"
      },
      "outputs": [
        {
          "output_type": "stream",
          "name": "stdout",
          "text": [
            "Mounted at /content/gdrive/\n"
          ]
        }
      ],
      "source": [
        "# Подключение к гугл диску для быстрой загрузки данных и сохранения результатов\n",
        "\n",
        "\n",
        "from google.colab import drive\n",
        "drive.mount('/content/gdrive/')"
      ]
    },
    {
      "cell_type": "code",
      "source": [
        "# Импортируем необходимые библиотеки\n",
        "\n",
        "\n",
        "# Для работы с файлами/данными\n",
        "import json\n",
        "import numpy as np\n",
        "import pandas as pd\n",
        "from sklearn.model_selection import train_test_split\n",
        "\n",
        "# Для отслеживания прогресса\n",
        "from tqdm import tqdm\n",
        "\n",
        "# Для создания Ner модели\n",
        "import spacy\n",
        "from spacy.tokens import DocBin\n",
        "import spacy_transformers\n",
        "\n",
        "# Для визуализации данных\n",
        "import matplotlib.pyplot as plt\n"
      ],
      "metadata": {
        "id": "kUX-qEwIZrJP"
      },
      "execution_count": 23,
      "outputs": []
    },
    {
      "cell_type": "code",
      "source": [
        "# Если у вас не установлена библиотека spaCy и нужные компоненты, то выполните установочные команды ниже\n",
        "# При возникновении ошибок по установке библиотек смотрите документацию с сайта (https://spacy.io/usage)\n",
        "\n",
        "'''\n",
        "!pip install -U pip setuptools wheel\n",
        "!pip install -U 'spacy[transformers,lookups]'\n",
        "!python -m spacy download ru_core_news_lg\n",
        "'''"
      ],
      "metadata": {
        "id": "qyry2dAZEWrm"
      },
      "execution_count": null,
      "outputs": []
    },
    {
      "cell_type": "code",
      "source": [
        "# Напишем функции для удобной загрузки и записи данных\n",
        "\n",
        "\n",
        "def load_data(file):\n",
        "    with open (file, 'r', encoding='UTF-8') as f:\n",
        "        data = json.load(f)\n",
        "    return (data)\n",
        "\n",
        "\n",
        "def write_data(file, data):\n",
        "    with open (file, 'w', encoding='UTF-8') as f:\n",
        "        json.dump(data, f, indent=4, ensure_ascii=False)\n",
        "\n",
        "        \n",
        "data_train = load_data('/content/gdrive/MyDrive/Colab Notebooks/Тестовые задания/Итоговая версия/train.json')\n",
        "data_test = load_data('/content/gdrive/MyDrive/Colab Notebooks/Тестовые задания/Итоговая версия/test.json')"
      ],
      "metadata": {
        "id": "ojAZz0gSZyqs"
      },
      "execution_count": 193,
      "outputs": []
    },
    {
      "cell_type": "code",
      "source": [
        "# Посмотрим на структуру данных на примере\n",
        "\n",
        "data_train[21]"
      ],
      "metadata": {
        "colab": {
          "base_uri": "https://localhost:8080/"
        },
        "id": "k5stQ7WD549L",
        "outputId": "4bec3f5f-535c-45c5-c313-3727ad76b247"
      },
      "execution_count": 4,
      "outputs": [
        {
          "output_type": "execute_result",
          "data": {
            "text/plain": [
              "{'id': 661965202,\n",
              " 'text': 'Извещение о проведении электронного аукциона для закупки №0142100004722000020 Общая информация Номер извещения 0142100004722000020 Наименование объекта закупки Приобретение и обновление лицензий ПО в сфере информационной безопасности Способ определения поставщика (подрядчика, исполнителя) программное обеспечение 58.29.50.000 Условная единица 1 447010.00 447010.00 Итого: 447010.00 Российский рубль Преимущества и требования к участникам Преимущества Преимущество в соответствии с ч. 3 ст. 30 Закона № 44-ФЗ Требования к участникам 1 Единые требования к участникам закупок в соответствии с ч. 1 ст. 31 Закона № 44-ФЗ 2 Требования к участникам закупок в соответствии с ч. 1.1 ст. 31 Закона № 44-ФЗ Ограничения Не установлены Обеспечение заявки Требуется обеспечение заявки Размер обеспечения заявки 4470.10 Российский рубль Порядок внесения денежных средств в качестве обеспечения заявки на участие в закупке, а также условия гарантии Согласно аукционной документации Реквизиты счета в соответствии с п.16 ч. 1 ст. 42 Закона № 44-ФЗ \"Номер расчётного счёта\" 00000000000000000000 \"Номер лицевого счёта\" См. прилагаемые документы \"БИК\" 000000000 \"Наименование кредитной организации\" \"Номер корреспондентского счета\" Обеспечение исполнения контракта Требуется обеспечение исполнения контракта Размер обеспечения исполнения контракта 5.00% Порядок обеспечения исполнения контракта, требования к обеспечению Согласно аукционной документации Платежные реквизиты \"Номер расчётного счёта\" 00000000000000000000 \"Номер лицевого счёта\" См. прилагаемые документы \"БИК\" 000000000 \"Наименование кредитной организации\" \"Номер корреспондентского счета\" Требования к гарантии качества товара, работы, услуги Требуется гарантия качества товара, работы, услуги Нет Обеспечение гарантийных обязательств Обеспечение гарантийных обязательств не требуется Дополнительная информация Информация отсутствует Информация о банковском и (или) казначейском сопровождении контракта Банковское или казначейское сопровождение контракта не требуется Перечень прикрепленных документов Обоснование начальной (максимальной) цены контракта 1 Приложение Обоснование НМЦК Проект контракта 1 Приложение №3 к Извещению Проект Государственного контракта Описание объекта закупки 1 Приложение№1 к Извещению Описание объекта закупки Требования к содержанию, составу заявки на учас Извещение о проведении электронного аукциона для закупки №0142100004722000020 Общая информация Номер извещения 0142100004722000020 Наименование объекта закупки Приобретение и обновление лицензий ПО в сфере информационной безопасности Способ определения поставщика (подрядчика, исполнителя)',\n",
              " 'label': 'обеспечение исполнения контракта',\n",
              " 'extracted_part': {'text': ['Размер обеспечения исполнения контракта 5.00%'],\n",
              "  'answer_start': [1290],\n",
              "  'answer_end': [1335]}}"
            ]
          },
          "metadata": {},
          "execution_count": 4
        }
      ]
    },
    {
      "cell_type": "code",
      "source": [
        "# Оценим баланс классов и количество пропусков (отсутствие информации) в каждом классе\n",
        "\n",
        "\n",
        "count_labels = {'Количество меток \"обеспечение исполнения контракта\"': 0, \n",
        "                'Количество меток \"обеспечение гарантийных обязательств\"': 0}\n",
        "\n",
        "count_skip = {'Количество пропусков в метке \"обеспечение исполнения контракта\"': 0, \n",
        "              'Количество пропусков в метке \"обеспечение гарантийных обязательств\"': 0}\n",
        "\n",
        "for i in data_train:\n",
        "    if i['label'] == 'обеспечение исполнения контракта':\n",
        "        if i['extracted_part']['text'][0] != '':\n",
        "            count_labels['Количество меток \"обеспечение исполнения контракта\"'] +=1\n",
        "        else:\n",
        "            count_skip['Количество пропусков в метке \"обеспечение исполнения контракта\"'] +=1\n",
        "    \n",
        "    if i['label'] == 'обеспечение гарантийных обязательств':\n",
        "        if i['extracted_part']['text'][0] != '':\n",
        "            count_labels['Количество меток \"обеспечение гарантийных обязательств\"'] +=1\n",
        "        else:\n",
        "            count_skip['Количество пропусков в метке \"обеспечение гарантийных обязательств\"'] +=1\n",
        "        \n",
        "        \n",
        "count_labels, count_skip"
      ],
      "metadata": {
        "colab": {
          "base_uri": "https://localhost:8080/"
        },
        "id": "hr5F1Nk26JR0",
        "outputId": "59de4668-a188-40df-cca7-ad8967045739"
      },
      "execution_count": 5,
      "outputs": [
        {
          "output_type": "execute_result",
          "data": {
            "text/plain": [
              "({'Количество меток \"обеспечение исполнения контракта\"': 984,\n",
              "  'Количество меток \"обеспечение гарантийных обязательств\"': 508},\n",
              " {'Количество пропусков в метке \"обеспечение исполнения контракта\"': 4,\n",
              "  'Количество пропусков в метке \"обеспечение гарантийных обязательств\"': 303})"
            ]
          },
          "metadata": {},
          "execution_count": 5
        }
      ]
    },
    {
      "cell_type": "code",
      "source": [
        "# Визуализируем полученные выше данные\n",
        "\n",
        "\n",
        "labels = ['обеспечение исполнения контракта', 'обеспечение гарантийных обязательств']\n",
        "list_count_labals = list(count_labels.values())\n",
        "list_count_skip = list(count_skip.values())\n",
        "\n",
        "bar_labels = plt.bar ([0, 1], list_count_labals, width=0.4)\n",
        "bar_skip = plt.bar ([0, 1], list_count_skip, bottom=list_count_labals, width=0.4)\n",
        "\n",
        "plt.ylabel('Количество данных')\n",
        "plt.title('Распределение данных по темам (с учетом пропусков)')\n",
        "plt.xticks ([0, 1], labels)\n",
        "plt.legend((bar_labels[0], bar_skip[0]),('Без пропусков', 'Пропуски'))\n",
        "plt.grid()\n",
        "\n",
        "plt.show()"
      ],
      "metadata": {
        "colab": {
          "base_uri": "https://localhost:8080/",
          "height": 452
        },
        "id": "tXhdUTgI6cOI",
        "outputId": "bab262b1-ec60-4191-ea9c-055a6d3d5449"
      },
      "execution_count": 6,
      "outputs": [
        {
          "output_type": "display_data",
          "data": {
            "text/plain": [
              "<Figure size 640x480 with 1 Axes>"
            ],
            "image/png": "[encoded data removed]"
          },
          "metadata": {}
        }
      ]
    },
    {
      "cell_type": "markdown",
      "source": [
        "**Вывод по имеющимся данным для обучения:** пропусков для метки '*обеспечение гарантийных обязательств*' довольно много. Но как было сказано в описание задания, такие данные возможны (в данных текстах просто нет нужной информации для извлечения). \n",
        "\n",
        "Больше всего тревожит дисбаланс классов, т.к., по хорошему, они должны быть +- одинаковыми, а у нас они отличаются почти в 2 раза. Данных не так много, чтобы просто удалить часть до их равенства.\n",
        "\n",
        "На данный момент, мы оставим все как есть и просто удалим данные без нужной информации (пропуски)."
      ],
      "metadata": {
        "id": "S2NbKL5v7LyY"
      }
    },
    {
      "cell_type": "markdown",
      "source": [
        "## Подготовка данных для обучения"
      ],
      "metadata": {
        "id": "nhRC50Ua_G7F"
      }
    },
    {
      "cell_type": "markdown",
      "source": [
        "Для нашей задачи по извлечению нужной информации (именованных сущностей) из текста будем обучать 2 вида NER модели, с помощью библиотеки spaCy 3:\n",
        "- 1 модель построена на pipeline = [\"tok2vec\",\"ner\"]\n",
        "- 2 модель-трансформер построена на pipeline = [\"transformer\",\"ner\"]"
      ],
      "metadata": {
        "id": "rNopiBXKAeav"
      }
    },
    {
      "cell_type": "code",
      "source": [
        "# Для обучения NER модели нам нужно пересобрать наши данные в нужном формате и без лишних данных\n",
        "\n",
        "\n",
        "def prepare_data(data):\n",
        "    prepared_data = []\n",
        "    for record in data:\n",
        "        text = record['text']\n",
        "\n",
        "        start = record['extracted_part']['answer_start'][0]\n",
        "        end = record['extracted_part']['answer_end'][0]\n",
        "        label = record['label']\n",
        "\n",
        "        ents = {\"entities\": [(start, end, label)]}\n",
        "        \n",
        "        prepared_data.append((text, ents))\n",
        "    return (prepared_data)\n",
        "\n",
        "data_train_prepared = prepare_data(data_train)"
      ],
      "metadata": {
        "id": "EDa7UEo6Z9UR"
      },
      "execution_count": 7,
      "outputs": []
    },
    {
      "cell_type": "code",
      "source": [
        "data_train_prepared[0]"
      ],
      "metadata": {
        "colab": {
          "base_uri": "https://localhost:8080/"
        },
        "id": "2JG_9lMdAHvw",
        "outputId": "71e5917d-8033-443c-c704-9b0eb51abec7"
      },
      "execution_count": 8,
      "outputs": [
        {
          "output_type": "execute_result",
          "data": {
            "text/plain": [
              "('Извещение о проведении открытого конкурса в электронной форме для закупки №0328300032822000806 Общая информация Номер извещения 0328300032822000806 Наименование объекта закупки Поставка продуктов питания Способ определения поставщика (подрядчика, исполнителя) Открытый конкурс в бль Порядок внесения денежных средств в качестве обеспечения заявки на участие в закупке, а также условия гарантии Обеспечение заявки на участие в закупке может предоставляться участником закупки в виде денежных средств или независимой гарантии, предусмотренной ст. 45 Федерального закона № 44-ФЗ. Выбор способа обеспечения осуществляется участником закупки самостоятельно. Срок действия независимой гарантии должен составлять не менее месяца с даты окончания срока подачи заявок. Обеспечение заявки на участие в закупке предоставляется в соответствии с ч. 5 ст. 44 Федерального закона № 44-ФЗ. Условия независимой гарантии в соответствии со ст. 45 Федерального закона № 44-ФЗ. Реквизиты счета в соответствии с п.16 ч. 1 ст. 42 Закона № 44-ФЗ \"Номер расчётного счёта\" 00000000000000000000 \"Номер лицевого счёта\" См. прилагаемые документы \"БИК\" 000000000 \"Наименование кредитной организации\" \"Номер корреспондентского счета\" Обеспечение исполнения контракта Требуется обеспечение исполнения контракта Размер обеспечения исполнения контракта 6593.25 Российский рубль Порядок обеспечения исполнения контракта, требования к обеспечению Исполнение контракта, гарантийные обязательства могут обеспечиваться предоставлением независимой гарантии, соответствующей требованиям ст. 45 Федерального закона № 44-ФЗ, или внесением денежных средств на указанный заказчиком счет, на котором в соответствии с законодательством Российской Федерации учитываются операции со средствами, поступающими заказчику. Способ обеспечения исполнения контракта, гарантийных обязательств, срок действия независимой гарантии определяются в соответствии с требованиями Федерального закона № 44-ФЗ участником закупки, с которым заключается контракт, самостоятельно. При этом срок действия независимой гарантии должен превышать предусмотренный контрактом срок исполнения обязательств, которые должны быть обеспечены такой независимой гарантией, не менее чем на один месяц, в том числе в случае его изменения в соответствии со ст. 95 Федерального закона № 44-ФЗ. Порядок предоставления и требования о Информация и документы, подтверждающие соответствие участников закупки дополнительным требованиям: 1) исполненный договор; 2) акт приемки оказанных услуг и (или) поставленных товаров, подтверждающий цену оказанных услуг и (или) поставленных товаров 4',\n",
              " {'entities': [(1279, 1343, 'обеспечение исполнения контракта')]})"
            ]
          },
          "metadata": {},
          "execution_count": 8
        }
      ]
    },
    {
      "cell_type": "code",
      "source": [
        "# Избавимся от пропусков (данных, без нужной информации для извлечения)\n",
        "\n",
        "\n",
        "data_train_cleaned = []\n",
        "\n",
        "for comment in data_train_prepared:\n",
        "    if comment[1]['entities'][0][0] != 0:\n",
        "        data_train_cleaned.append(comment)\n",
        "        \n",
        "len(data_train_cleaned)"
      ],
      "metadata": {
        "colab": {
          "base_uri": "https://localhost:8080/"
        },
        "id": "6TIk7H40aJWc",
        "outputId": "99dff1e0-76a8-4fc9-cafb-63ee7ef2d71e"
      },
      "execution_count": 10,
      "outputs": [
        {
          "output_type": "execute_result",
          "data": {
            "text/plain": [
              "1492"
            ]
          },
          "metadata": {},
          "execution_count": 10
        }
      ]
    },
    {
      "cell_type": "code",
      "source": [
        "# Разделим очищенные данные на тренировочные и проверочные\n",
        "\n",
        "\n",
        "train_data, val_data = train_test_split(data_train_cleaned, test_size=0.2, random_state=21)\n",
        "\n",
        "print(len(train_data), len(val_data))"
      ],
      "metadata": {
        "colab": {
          "base_uri": "https://localhost:8080/"
        },
        "id": "XZ58HNyhaNFX",
        "outputId": "676e66fd-7e0e-4994-dc0e-d23eea4fe110"
      },
      "execution_count": 13,
      "outputs": [
        {
          "output_type": "stream",
          "name": "stdout",
          "text": [
            "1193 299\n"
          ]
        }
      ]
    },
    {
      "cell_type": "code",
      "source": [
        "# Для последующей корректной работы кода, уже должны быть установлены\n",
        "\n",
        "\n",
        "'''\n",
        "!pip install -U 'spacy[transformers,lookups]'\n",
        "!python -m spacy download ru_core_news_lg\n",
        "'''\n",
        "\n",
        "\n",
        "# В среде Colab есть вероятность столкнуться с ошибкой кодировки (ниже код для исправления этой ошибки)\n",
        "\n",
        "import locale\n",
        "locale.getpreferredencoding = lambda: \"UTF-8\""
      ],
      "metadata": {
        "id": "NX6ndYEKafww"
      },
      "execution_count": 15,
      "outputs": []
    },
    {
      "cell_type": "code",
      "source": [
        "# Преобразуем наши подготовленные данные в doc формат для обучения с помощью spaCy 3\n",
        "\n",
        "\n",
        "def convert_data(data, out_name='train.spacy'):\n",
        "    nlp = spacy.load('ru_core_news_lg') # загрузим языковую модель\n",
        "\n",
        "    db = DocBin() # создадим DocBin объект\n",
        "\n",
        "    for text, annot in tqdm(data): # преобразуем в цикле наши данные\n",
        "        doc = nlp.make_doc(text) \n",
        "        ents = []\n",
        "        for start, end, label in annot['entities']: \n",
        "            span = doc.char_span(start, end, label=label, alignment_mode='contract')\n",
        "            ents.append(span)\n",
        "        doc.ents = ents\n",
        "        db.add(doc)\n",
        "\n",
        "    db.to_disk(out_name) # сохраняем в среду colab\n",
        "\n",
        "convert_data(train_data), convert_data(val_data, 'val.spacy')"
      ],
      "metadata": {
        "colab": {
          "base_uri": "https://localhost:8080/"
        },
        "id": "4f_QntetaSAp",
        "outputId": "01668814-1ad8-42c7-d6f2-d106e5fc3af6"
      },
      "execution_count": 17,
      "outputs": [
        {
          "output_type": "stream",
          "name": "stderr",
          "text": [
            "100%|██████████| 1193/1193 [00:04<00:00, 254.60it/s]\n",
            "100%|██████████| 299/299 [00:01<00:00, 200.37it/s]\n"
          ]
        },
        {
          "output_type": "execute_result",
          "data": {
            "text/plain": [
              "(None, None)"
            ]
          },
          "metadata": {},
          "execution_count": 17
        }
      ]
    },
    {
      "cell_type": "markdown",
      "source": [
        "## Обучение моделей"
      ],
      "metadata": {
        "id": "1Zr9k5CpbYM3"
      }
    },
    {
      "cell_type": "markdown",
      "source": [
        "### Модель 1: pipeline = [\"tok2vec\",\"ner\"]"
      ],
      "metadata": {
        "id": "XHvVzkqzbcA_"
      }
    },
    {
      "cell_type": "code",
      "source": [
        "# Следующим этапом создаем конфигурационный файл для обучения\n",
        "# Базовый файл можно сформировать по ссылке с оффициального сайта: https://spacy.io/usage/training\n",
        "\n",
        "\n",
        "!python -m spacy init fill-config '/content/gdrive/MyDrive/Colab Notebooks/Тестовые задания/Итоговая версия/base_config_cpu.cfg' config_cpu.cfg\n",
        "\n",
        "# После получения базового конфигурационного файла (будет сохранен в среду colab), \n",
        "# в строке vectors указываем стартовые данные \"ru_core_news_lg\" для обучения. "
      ],
      "metadata": {
        "colab": {
          "base_uri": "https://localhost:8080/"
        },
        "id": "XJGlG3RSbr9l",
        "outputId": "f745c814-de94-407b-e0c7-8c7502759696"
      },
      "execution_count": 18,
      "outputs": [
        {
          "output_type": "stream",
          "name": "stdout",
          "text": [
            "2023-04-23 08:54:24.563574: W tensorflow/compiler/tf2tensorrt/utils/py_utils.cc:38] TF-TRT Warning: Could not find TensorRT\n",
            "\u001b[38;5;2m✔ Auto-filled config with all values\u001b[0m\n",
            "\u001b[38;5;2m✔ Saved config\u001b[0m\n",
            "config_cpu.cfg\n",
            "You can now add your data and train your pipeline:\n",
            "python -m spacy train config_cpu.cfg --paths.train ./train.spacy --paths.dev ./dev.spacy\n"
          ]
        }
      ]
    },
    {
      "cell_type": "code",
      "execution_count": null,
      "metadata": {
        "id": "ca8572b2",
        "outputId": "f47d4f8f-0b8f-409d-c371-cec507936c97"
      },
      "outputs": [
        {
          "name": "stdout",
          "output_type": "stream",
          "text": [
            "\u001b[38;5;2m✔ Created output directory: output\u001b[0m\n",
            "\u001b[38;5;4mℹ Saving to output directory: output\u001b[0m\n",
            "\u001b[38;5;4mℹ Using CPU\u001b[0m\n",
            "\u001b[1m\n",
            "=========================== Initializing pipeline ===========================\u001b[0m\n",
            "[2023-04-21 22:01:32,499] [INFO] Set up nlp object from config\n",
            "[2023-04-21 22:01:32,511] [INFO] Pipeline: ['tok2vec', 'ner']\n",
            "[2023-04-21 22:01:32,515] [INFO] Created vocabulary\n",
            "[2023-04-21 22:01:35,413] [INFO] Added vectors: ru_core_news_lg\n",
            "[2023-04-21 22:01:37,632] [INFO] Finished initializing nlp object\n",
            "[2023-04-21 22:01:51,173] [INFO] Initialized pipeline components: ['tok2vec', 'ner']\n",
            "\u001b[38;5;2m✔ Initialized pipeline\u001b[0m\n",
            "\u001b[1m\n",
            "============================= Training pipeline =============================\u001b[0m\n",
            "\u001b[38;5;4mℹ Pipeline: ['tok2vec', 'ner']\u001b[0m\n",
            "\u001b[38;5;4mℹ Initial learn rate: 0.001\u001b[0m\n",
            "E    #       LOSS TOK2VEC  LOSS NER  ENTS_F  ENTS_P  ENTS_R  SCORE \n",
            "---  ------  ------------  --------  ------  ------  ------  ------\n",
            "  0       0          0.00    192.60    0.00    0.00    0.00    0.00\n",
            "  0     200       3191.00   6932.93    0.00    0.00    0.00    0.00\n",
            "  0     400        955.32   1252.69   47.94   51.54   44.82    0.48\n",
            "  0     600      27602.75   1937.83   36.56   34.31   39.13    0.37\n",
            "  0     800      12393.13    921.16   49.17   64.32   39.80    0.49\n",
            "  0    1000      16171.97    998.21   51.10   63.37   42.81    0.51\n",
            "  1    1200        630.87    392.53   38.24   35.00   42.14    0.38\n",
            "  1    1400       3031.81    625.95   53.33   64.45   45.48    0.53\n",
            "  1    1600       8588.12    787.91   38.64   29.18   57.19    0.39\n",
            "  1    1800       5613.60    441.12   43.06   69.92   31.10    0.43\n",
            "  1    2000      20015.46    408.28   62.65   66.54   59.20    0.63\n",
            "  1    2200       8305.91    353.15   57.19   54.74   59.87    0.57\n",
            "  2    2400       1222.20    292.38   55.84   61.45   51.17    0.56\n",
            "  2    2600      16440.59    487.97   55.61   54.11   57.19    0.56\n",
            "  2    2800       5283.88    342.55   57.56   75.54   46.49    0.58\n",
            "  2    3000      17756.73    404.82   43.81   64.71   33.11    0.44\n",
            "  2    3200       6454.76    366.78   57.91   62.65   53.85    0.58\n",
            "  2    3400       4114.79    364.71   57.65   61.60   54.18    0.58\n",
            "  3    3600        371.50    260.72   55.96   55.41   56.52    0.56\n",
            "\u001b[38;5;2m✔ Saved pipeline to output directory\u001b[0m\n",
            "output/model-last\n"
          ]
        }
      ],
      "source": [
        "# Запускаем процесс обучения 1 модели NER (лучшую и последнюю модель сохраняем на гугл диск)\n",
        "\n",
        "\n",
        "!python -m spacy train config_cpu.cfg --output '/content/gdrive/MyDrive/Colab Notebooks/Тестовые задания/Итоговая версия/output_cpu' --paths.train ./train.spacy --paths.dev ./val.spacy "
      ]
    },
    {
      "cell_type": "markdown",
      "source": [
        "### Модель 2: pipeline = [\"transformer\",\"ner\"]"
      ],
      "metadata": {
        "id": "lNyBXKw9bpBf"
      }
    },
    {
      "cell_type": "code",
      "source": [
        "# Аналогичным действием создаем конфигурационный файл для обучения, но уже для модели transformer\n",
        "# Базовый файл можно сформировать по ссылке с оффициального сайта: https://spacy.io/usage/training\n",
        "\n",
        "\n",
        "!python -m spacy init fill-config '/content/gdrive/MyDrive/Colab Notebooks/Тестовые задания/Итоговая версия/base_config_gpu.cfg' config_gpu.cfg\n",
        "\n",
        "# После получения базового конфигурационного файла (будет сохранен в среду colab), \n",
        "# в строке vectors указываем стартовые данные \"ru_core_news_lg\" для обучения. "
      ],
      "metadata": {
        "colab": {
          "base_uri": "https://localhost:8080/"
        },
        "id": "3fXss9_cXLC8",
        "outputId": "5d28ebe4-57f7-4081-bdbf-49c9f9751b17"
      },
      "execution_count": 21,
      "outputs": [
        {
          "output_type": "stream",
          "name": "stdout",
          "text": [
            "2023-04-23 09:29:55.486886: W tensorflow/compiler/tf2tensorrt/utils/py_utils.cc:38] TF-TRT Warning: Could not find TensorRT\n",
            "\u001b[38;5;2m✔ Auto-filled config with all values\u001b[0m\n",
            "\u001b[38;5;2m✔ Saved config\u001b[0m\n",
            "config_gpu.cfg\n",
            "You can now add your data and train your pipeline:\n",
            "python -m spacy train config_gpu.cfg --paths.train ./train.spacy --paths.dev ./dev.spacy\n"
          ]
        }
      ]
    },
    {
      "cell_type": "code",
      "source": [
        "# Запускаем процесс обучения 2 модели NER (лучшую и последнюю модель сохраняем на гугл диск)\n",
        "# В данном случае, это модель BERT, которую рекомендуется обучать на GPU\n",
        "\n",
        "\n",
        "!python -m spacy train -g 0 config_gpu.cfg --output '/content/gdrive/MyDrive/Colab Notebooks/Тестовые задания/Итоговая версия/output_gpu/model-best' --paths.train ./train.spacy --paths.dev ./val.spacy "
      ],
      "metadata": {
        "colab": {
          "base_uri": "https://localhost:8080/"
        },
        "id": "dDC34M_BgHoT",
        "outputId": "ddd99eb0-3124-4df5-bf92-a0ed9057b4c9"
      },
      "execution_count": null,
      "outputs": [
        {
          "output_type": "stream",
          "name": "stdout",
          "text": [
            "2023-04-22 05:49:03.290304: W tensorflow/compiler/tf2tensorrt/utils/py_utils.cc:38] TF-TRT Warning: Could not find TensorRT\n",
            "\u001b[38;5;2m✔ Created output directory: /content/gdrive/MyDrive/Colab\n",
            "Notebooks/Тестовые задания/output\u001b[0m\n",
            "\u001b[38;5;4mℹ Saving to output directory: /content/gdrive/MyDrive/Colab\n",
            "Notebooks/Тестовые задания/output\u001b[0m\n",
            "\u001b[38;5;4mℹ Using GPU: 0\u001b[0m\n",
            "\u001b[1m\n",
            "=========================== Initializing pipeline ===========================\u001b[0m\n",
            "[2023-04-22 05:49:14,680] [INFO] Set up nlp object from config\n",
            "[2023-04-22 05:49:14,695] [INFO] Pipeline: ['transformer', 'ner']\n",
            "[2023-04-22 05:49:14,700] [INFO] Created vocabulary\n",
            "[2023-04-22 05:49:18,286] [INFO] Added vectors: ru_core_news_lg\n",
            "[2023-04-22 05:49:21,296] [INFO] Finished initializing nlp object\n",
            "Downloading (…)okenizer_config.json: 100% 28.0/28.0 [00:00<00:00, 9.96kB/s]\n",
            "Downloading (…)lve/main/config.json: 100% 625/625 [00:00<00:00, 246kB/s]\n",
            "Downloading (…)solve/main/vocab.txt: 100% 872k/872k [00:00<00:00, 46.2MB/s]\n",
            "Downloading (…)/main/tokenizer.json: 100% 1.72M/1.72M [00:01<00:00, 1.62MB/s]\n",
            "Downloading pytorch_model.bin: 100% 672M/672M [00:04<00:00, 157MB/s]\n",
            "Some weights of the model checkpoint at bert-base-multilingual-uncased were not used when initializing BertModel: ['cls.seq_relationship.bias', 'cls.predictions.decoder.weight', 'cls.predictions.bias', 'cls.seq_relationship.weight', 'cls.predictions.transform.LayerNorm.weight', 'cls.predictions.transform.dense.bias', 'cls.predictions.transform.LayerNorm.bias', 'cls.predictions.transform.dense.weight']\n",
            "- This IS expected if you are initializing BertModel from the checkpoint of a model trained on another task or with another architecture (e.g. initializing a BertForSequenceClassification model from a BertForPreTraining model).\n",
            "- This IS NOT expected if you are initializing BertModel from the checkpoint of a model that you expect to be exactly identical (initializing a BertForSequenceClassification model from a BertForSequenceClassification model).\n",
            "[2023-04-22 05:49:57,278] [INFO] Initialized pipeline components: ['transformer', 'ner']\n",
            "\u001b[38;5;2m✔ Initialized pipeline\u001b[0m\n",
            "\u001b[1m\n",
            "============================= Training pipeline =============================\u001b[0m\n",
            "\u001b[38;5;4mℹ Pipeline: ['transformer', 'ner']\u001b[0m\n",
            "\u001b[38;5;4mℹ Initial learn rate: 0.0\u001b[0m\n",
            "E    #       LOSS TRANS...  LOSS NER  ENTS_F  ENTS_P  ENTS_R  SCORE \n",
            "---  ------  -------------  --------  ------  ------  ------  ------\n",
            "  0       0        9978.04   1044.58    0.00    0.00    0.00    0.00\n",
            "Token indices sequence length is longer than the specified maximum sequence length for this model (881 > 512). Running this sequence through the model will result in indexing errors\n",
            "  0     200      280997.88  32410.99   19.92   27.17   15.72    0.20\n",
            "  1     400       79773.27   4477.36   56.00   51.85   60.87    0.56\n",
            "  2     600         713.73   1269.53   63.77   57.72   71.24    0.64\n",
            "  2     800         587.43   1091.02   66.33   67.47   65.22    0.66\n",
            "  3    1000         469.25    957.32   63.62   58.38   69.90    0.64\n",
            "  4    1200         424.42    807.79   72.26   74.04   70.57    0.72\n",
            "  5    1400         872.52    772.23   71.22   69.30   73.24    0.71\n",
            "  5    1600         336.50    726.38   69.27   67.41   71.24    0.69\n",
            "  6    1800         503.81    708.47   73.96   73.36   74.58    0.74\n",
            "  7    2000         885.20    606.40   72.49   70.22   74.92    0.72\n",
            "  8    2200        1447.47    626.49   75.87   75.50   76.25    0.76\n",
            "  8    2400        3825.15    602.36   75.04   74.18   75.92    0.75\n",
            "  9    2600         753.15    525.45   73.09   68.31   78.60    0.73\n",
            " 10    2800        1322.57    570.38   74.71   74.83   74.58    0.75\n",
            " 11    3000         580.57    456.09   75.17   75.42   74.92    0.75\n",
            " 11    3200         802.19    471.31   75.43   77.00   73.91    0.75\n",
            " 12    3400         372.94    432.24   74.96   73.40   76.59    0.75\n",
            " 13    3600         149.42    342.26   76.22   76.87   75.59    0.76\n",
            " 14    3800         440.85    370.95   73.38   71.29   75.59    0.73\n",
            " 14    4000        1011.64    397.40   71.05   66.76   75.92    0.71\n",
            " 15    4200         141.40    308.22   73.29   71.43   75.25    0.73\n",
            " 16    4400         390.76    265.49   74.68   72.56   76.92    0.75\n",
            " 17    4600         177.18    261.95   75.37   74.51   76.25    0.75\n",
            " 17    4800         321.83    259.97   76.97   77.36   76.59    0.77\n",
            " 18    5000        1271.06    300.77   73.79   73.67   73.91    0.74\n",
            " 19    5200         104.97    174.57   76.69   75.82   77.59    0.77\n",
            " 20    5400         392.29    247.23   78.07   77.56   78.60    0.78\n",
            " 20    5600         580.71    207.72   77.28   76.64   77.93    0.77\n",
            " 21    5800        2152.03    221.22   75.17   74.43   75.92    0.75\n",
            " 22    6000         999.87    232.76   72.79   72.67   72.91    0.73\n",
            " 23    6200          96.67    124.65   74.59   73.62   75.59    0.75\n",
            " 23    6400        2781.50    167.68   74.59   73.62   75.59    0.75\n",
            "^C\n"
          ]
        }
      ]
    },
    {
      "cell_type": "markdown",
      "source": [
        "К сожалению, до конца обучить модель не получилось, ввиду ограничений по памяти у Colab. Поэтому имеем только тот результат, который успели получить. Возможно модель смогла бы и улучшить Score. "
      ],
      "metadata": {
        "id": "s7rT8YpSerxZ"
      }
    },
    {
      "cell_type": "markdown",
      "source": [
        "**Вывод:** ожидаемо, трансформер-модель показывает лучшую точность распознования именованных сущностей (нужной информации), поэтому для предсказания будем сначала использовать ее, а если она не сможет распознать, то уже попробуем через RNN модель (модель 1). "
      ],
      "metadata": {
        "id": "IgSPralpf0lZ"
      }
    },
    {
      "cell_type": "markdown",
      "source": [
        "## Загрузка лучших моделей"
      ],
      "metadata": {
        "id": "GcI4kLtnL36K"
      }
    },
    {
      "cell_type": "markdown",
      "source": [
        "### Модель 1"
      ],
      "metadata": {
        "id": "8M5Zaxt-MawF"
      }
    },
    {
      "cell_type": "code",
      "source": [
        "# Загружаем лучшую модель 1\n",
        "\n",
        "\n",
        "ner_model_1 = spacy.load(r'/content/gdrive/MyDrive/Colab Notebooks/Тестовые задания/Итоговая версия/output_cpu/model-best')"
      ],
      "metadata": {
        "id": "uBZzayc8XLKB"
      },
      "execution_count": 19,
      "outputs": []
    },
    {
      "cell_type": "code",
      "source": [
        "# Проверим работоспособность модели, предсказав один из результатов для тестовых данных (их модель еще не видела)\n",
        "\n",
        "doc = ner_model_1(data_test[1]['text'])\n",
        "spacy.displacy.render(doc, style=\"ent\", jupyter=True) # Для визуального отображения предсказанной информации"
      ],
      "metadata": {
        "colab": {
          "base_uri": "https://localhost:8080/",
          "height": 577
        },
        "id": "YSEvjSGdXLG7",
        "outputId": "c85da677-6fba-4f7b-a11e-7e2177811b1a"
      },
      "execution_count": 72,
      "outputs": [
        {
          "output_type": "display_data",
          "data": {
            "text/plain": [
              "<IPython.core.display.HTML object>"
            ],
            "text/html": [
              "<span class=\"tex2jax_ignore\"><div class=\"entities\" style=\"line-height: 2.5; direction: ltr\">Извещение о проведении электронного аукциона для закупки №0124200000622005291 Общая информация Номер извещения 0124200000622005291 Наименование объекта закупки Поставка медицинской мебели Предметом контракта является поставка товара, необходимого для нормального жизнеобеспечения в случаях, ка за счет собственных средств организации Да Финансовое обеспечение закупки Всего: Оплата за 2022 год Оплата за 2023 год Оплата за 2024 год Сумма на последующие годы 541976.34 541976.34 0.00 0.00 0.00 Этапы исполнения контракта Контракт не разделен на этапы исполнения контракта Финансирование за счет собственных средств Итого Сумма контракта (в валюте контракта) на 2022 год на 2023 год на 2024 год на 2025 год 1 2 3 4 541976.34 0 0 0 541976.34 0.00 0.00 0.00 Код видов расходов Сумма контракта (в валюте контракта) на 2022 год на 2023 год на 2024 год на 2025 год 1 2 3 4 5 244 541976.34 0 0 0 Итого 541976.34 0.00 0.00 0.00 Место поставки товара, выполнения работы или оказания услуги 163002, г. Архангельск, пр. Обводный канал, д.7, помещения Заказчика Предусмотрена возможность одностороннего отказа от исполнения контракта в соответствии со ст. 95 Закона № 44-ФЗ Да Обеспечение заявки Обеспечение заявок не требуется Обеспечение исполнения контракта Требуется обеспечение исполнения контракта \n",
              "<mark class=\"entity\" style=\"background: #ddd; padding: 0.45em 0.6em; margin: 0 0.25em; line-height: 1; border-radius: 0.35em;\">\n",
              "    Размер обеспечения исполнения контракта 10.00%\n",
              "    <span style=\"font-size: 0.8em; font-weight: bold; line-height: 1; border-radius: 0.35em; vertical-align: middle; margin-left: 0.5rem\">обеспечение исполнения контракта</span>\n",
              "</mark>\n",
              " Порядок обеспечения исполнения контракта, требования к обеспечению В соответствии с приложением к извещению об осуществлении закупки Платежные реквизиты &quot;Номер расчётного счёта&quot; 03224643110000002400 &quot;Номер лицевого счёта&quot; 20246Ц24120 &quot;БИК&quot; 011117401 &quot;Наименование кредитной организации&quot; ОТДЕЛЕНИЕ АРХАНГЕЛЬСК БАНКА РОССИИ//УФК по Архангельской области и Ненецкому автономному округу г. Архангельск &quot;Номер корреспондентского счета&quot; 40102810045370000016 Требования к гарантии качества товара, работы, услуги Требуется гарантия качества товара, работы, услуги Да Информация о требованиях к гарантийному обслуживанию товара в соответствии с проектом контракта Требования к гарантии производителя товара в соответствии с проектом контракта Срок, на который предоставляется гарантия в соответствии с проектом контракта Обеспечение гарантийных обязательств Обеспечение гарантийных обязательств не требуется Информация о банковском и (или) казначейском сопровождении контракта Банковское или казначейское со Извещение о проведении электронного аукциона для закупки №0124200000622005291 Общая информация Номер извещения 0124200000622005291 Наименование объекта закупки Поставка медицинской мебели Предметом контракта является поставка товара, необходимого для нормального жизнеобеспечения в случаях,</div></span>"
            ]
          },
          "metadata": {}
        }
      ]
    },
    {
      "cell_type": "markdown",
      "source": [
        "### Модель 2"
      ],
      "metadata": {
        "id": "JhNpcczHMfmp"
      }
    },
    {
      "cell_type": "code",
      "source": [
        "# Загружаем лучшую модель 2\n",
        "\n",
        "\n",
        "ner_model_2 = spacy.load(r'/content/gdrive/MyDrive/Colab Notebooks/Тестовые задания/Итоговая версия/output_gpu/model-best')"
      ],
      "metadata": {
        "id": "J3WNWCHrXK90"
      },
      "execution_count": 24,
      "outputs": []
    },
    {
      "cell_type": "code",
      "source": [
        "# Проверим работоспособность модели, предсказав один из результатов для тестовых данных (их модель еще не видела)\n",
        "\n",
        "\n",
        "doc = ner_model_2(data_test[1]['text'])\n",
        "spacy.displacy.render(doc, style=\"ent\", jupyter=True) # Для визуального отображения предсказанной информации"
      ],
      "metadata": {
        "colab": {
          "base_uri": "https://localhost:8080/",
          "height": 577
        },
        "id": "YmcVyVQbXK6N",
        "outputId": "3385466b-9cc1-49d5-9b56-01c645c4133f"
      },
      "execution_count": 71,
      "outputs": [
        {
          "output_type": "display_data",
          "data": {
            "text/plain": [
              "<IPython.core.display.HTML object>"
            ],
            "text/html": [
              "<span class=\"tex2jax_ignore\"><div class=\"entities\" style=\"line-height: 2.5; direction: ltr\">Извещение о проведении электронного аукциона для закупки №0124200000622005291 Общая информация Номер извещения 0124200000622005291 Наименование объекта закупки Поставка медицинской мебели Предметом контракта является поставка товара, необходимого для нормального жизнеобеспечения в случаях, ка за счет собственных средств организации Да Финансовое обеспечение закупки Всего: Оплата за 2022 год Оплата за 2023 год Оплата за 2024 год Сумма на последующие годы 541976.34 541976.34 0.00 0.00 0.00 Этапы исполнения контракта Контракт не разделен на этапы исполнения контракта Финансирование за счет собственных средств Итого Сумма контракта (в валюте контракта) на 2022 год на 2023 год на 2024 год на 2025 год 1 2 3 4 541976.34 0 0 0 541976.34 0.00 0.00 0.00 Код видов расходов Сумма контракта (в валюте контракта) на 2022 год на 2023 год на 2024 год на 2025 год 1 2 3 4 5 244 541976.34 0 0 0 Итого 541976.34 0.00 0.00 0.00 Место поставки товара, выполнения работы или оказания услуги 163002, г. Архангельск, пр. Обводный канал, д.7, помещения Заказчика Предусмотрена возможность одностороннего отказа от исполнения контракта в соответствии со ст. 95 Закона № 44-ФЗ Да Обеспечение заявки Обеспечение заявок не требуется Обеспечение исполнения контракта Требуется обеспечение исполнения контракта \n",
              "<mark class=\"entity\" style=\"background: #ddd; padding: 0.45em 0.6em; margin: 0 0.25em; line-height: 1; border-radius: 0.35em;\">\n",
              "    Размер обеспечения исполнения контракта 10.00%\n",
              "    <span style=\"font-size: 0.8em; font-weight: bold; line-height: 1; border-radius: 0.35em; vertical-align: middle; margin-left: 0.5rem\">обеспечение исполнения контракта</span>\n",
              "</mark>\n",
              " Порядок обеспечения исполнения контракта, требования к обеспечению В соответствии с приложением к извещению об осуществлении закупки Платежные реквизиты &quot;Номер расчётного счёта&quot; 03224643110000002400 &quot;Номер лицевого счёта&quot; 20246Ц24120 &quot;БИК&quot; 011117401 &quot;Наименование кредитной организации&quot; ОТДЕЛЕНИЕ АРХАНГЕЛЬСК БАНКА РОССИИ//УФК по Архангельской области и Ненецкому автономному округу г. Архангельск &quot;Номер корреспондентского счета&quot; 40102810045370000016 Требования к гарантии качества товара, работы, услуги Требуется гарантия качества товара, работы, услуги Да Информация о требованиях к гарантийному обслуживанию товара в соответствии с проектом контракта Требования к гарантии производителя товара в соответствии с проектом контракта Срок, на который предоставляется гарантия в соответствии с проектом контракта Обеспечение гарантийных обязательств Обеспечение гарантийных обязательств не требуется Информация о банковском и (или) казначейском сопровождении контракта Банковское или казначейское со Извещение о проведении электронного аукциона для закупки №0124200000622005291 Общая информация Номер извещения 0124200000622005291 Наименование объекта закупки Поставка медицинской мебели Предметом контракта является поставка товара, необходимого для нормального жизнеобеспечения в случаях,</div></span>"
            ]
          },
          "metadata": {}
        }
      ]
    },
    {
      "cell_type": "markdown",
      "source": [
        "## Небольшой анализ результатов работ моделей"
      ],
      "metadata": {
        "id": "SoxwAgXbmE5O"
      }
    },
    {
      "cell_type": "markdown",
      "source": [
        "Сделаем небольшой сравнительный анализ работы 2-х моделей на тестовых данных. Пусть это и довольно грубый вариант, но зато он может ответить на интересующие вопросы:\n",
        "- Количество совпадений извлеченных ответов у 2-х моделей\n",
        "- Количество пропусков (нет нужной информации) у каждой модели\n",
        "- Количество раз, когда одна модель имеет какую-то информацию, а другая нет\n",
        "\n",
        "Все это позволит немного оценить, насколько хорошо модели извлекают информацию. "
      ],
      "metadata": {
        "id": "DqN69lAKCRFs"
      }
    },
    {
      "cell_type": "code",
      "source": [
        "# Посмотрим, насколько хорошо или плохо справляются с тестовыми данными каждая из моделей\n",
        "\n",
        "\n",
        "count_try = 0\n",
        "count_false = 0\n",
        "count_try_idx = []\n",
        "count_false_idx = []\n",
        "\n",
        "\n",
        "count_none_m1 = 0\n",
        "count_none_m2 = 0\n",
        "count_none_m1_idx = []\n",
        "count_none_m2_idx = []\n",
        "\n",
        "count_know_m1_without_m2 = 0\n",
        "count_know_m2_without_m1 = 0\n",
        "count_know_m1_without_m2_idx = []\n",
        "count_know_m2_without_m1_idx = []\n",
        "\n",
        "for idx, text in tqdm(enumerate(data_test)):\n",
        "  doc_1 = ner_model_1(text['text'])\n",
        "  doc_2 = ner_model_2(text['text'])\n",
        "  if doc_1.ents != () and doc_2.ents != ():\n",
        "    if str(doc_1.ents[0]) == str(doc_2.ents[0]):\n",
        "      count_try += 1\n",
        "      count_try_idx.append(idx)\n",
        "\n",
        "    if str(doc_1.ents[0]) != str(doc_2.ents[0]):\n",
        "      count_false += 1\n",
        "      count_false_idx.append(idx)\n",
        "\n",
        "  elif doc_1.ents == ():\n",
        "    count_none_m1 += 1\n",
        "    count_none_m1_idx.append(idx)\n",
        "  elif doc_2.ents == ():\n",
        "    count_none_m2 += 1\n",
        "    count_none_m2_idx.append(idx)\n",
        "\n",
        "  if doc_1.ents != () and doc_2.ents == ():\n",
        "    count_know_m1_without_m2 += 1\n",
        "    count_know_m1_without_m2_idx.append(idx)\n",
        "  if doc_1.ents == () and doc_2.ents != ():\n",
        "    count_know_m2_without_m1 += 1\n",
        "    count_know_m2_without_m1_idx.append(idx)\n",
        "\n",
        "\n",
        "print('\\nКоличество совпадений ответов у моделей:', count_try)\n",
        "print('Количество не совпадений ответов у моделей:', count_false)\n",
        "\n",
        "print('Количество пропусков у 1 модели:', count_none_m1)\n",
        "print('Количество пропусков у 2 модели:', count_none_m2)\n",
        "\n",
        "print('Есть информация у 1 модели, а у 2 нет:', count_know_m1_without_m2)\n",
        "print('Есть информация у 2 модели, а у 1 нет:', count_know_m2_without_m1)\n"
      ],
      "metadata": {
        "colab": {
          "base_uri": "https://localhost:8080/"
        },
        "id": "IU1WCcxuyEEZ",
        "outputId": "2ffb5807-df7e-4f7b-d1db-86fdbbc198a1"
      },
      "execution_count": 74,
      "outputs": [
        {
          "output_type": "stream",
          "name": "stderr",
          "text": [
            "318it [23:21,  4.41s/it]"
          ]
        },
        {
          "output_type": "stream",
          "name": "stdout",
          "text": [
            "\n",
            "Количество совпадений ответов у моделей: 148\n",
            "Количество не совпадений ответов у моделей: 68\n",
            "Количество пропусков у 1 модели: 98\n",
            "Количество пропусков у 2 модели: 4\n",
            "Есть информация у 1 модели, а у 2 нет: 4\n",
            "Есть информация у 2 модели, а у 1 нет: 38\n"
          ]
        },
        {
          "output_type": "stream",
          "name": "stderr",
          "text": [
            "\n"
          ]
        }
      ]
    },
    {
      "cell_type": "markdown",
      "source": [
        "Оценивая результаты, хочется особенно взглянуть на данные, где модель-трансформер не справилась, а RNN модель что-то извлекла из текста. "
      ],
      "metadata": {
        "id": "2mUa_SIfOY8i"
      }
    },
    {
      "cell_type": "code",
      "source": [
        "count_know_m1_without_m2_idx"
      ],
      "metadata": {
        "colab": {
          "base_uri": "https://localhost:8080/"
        },
        "id": "uiG4DT6uSlJy",
        "outputId": "1fbf4d81-8963-4351-f13b-c9cd18191c14"
      },
      "execution_count": 77,
      "outputs": [
        {
          "output_type": "execute_result",
          "data": {
            "text/plain": [
              "[15, 141, 178, 305]"
            ]
          },
          "metadata": {},
          "execution_count": 77
        }
      ]
    },
    {
      "cell_type": "code",
      "source": [
        "# Посмотрим на эти примеры\n",
        "\n",
        "\n",
        "for idx in count_know_m1_without_m2_idx:\n",
        "  doc_1 = ner_model_1(data_test[idx]['text'])\n",
        "  spacy.displacy.render(doc_1, style=\"ent\", jupyter=True)"
      ],
      "metadata": {
        "colab": {
          "base_uri": "https://localhost:8080/",
          "height": 1000
        },
        "id": "AHF3ydMoJoEb",
        "outputId": "d78b4d88-cc43-4132-a734-4089844cb84a"
      },
      "execution_count": 76,
      "outputs": [
        {
          "output_type": "display_data",
          "data": {
            "text/plain": [
              "<IPython.core.display.HTML object>"
            ],
            "text/html": [
              "<span class=\"tex2jax_ignore\"><div class=\"entities\" style=\"line-height: 2.5; direction: ltr\">РАЗДЕЛ 4. азмере __________________________. Размер штрафа определяется в соответствии с Правилами определения размера штрафа в следующем порядке: а) 1000 рублей, если цена Контракта не превышает 3 млн. рублей; б) 5000 рублей, если цена Контракта составляет от 3 млн. рублей до 50 млн. рублей (включительно); в) 10000 рублей, если цена Контракта составляет от 50 млн. рублей до 100 млн. рублей (включительно); г) 100000 рублей, если цена контракта превышает 100 млн. рублей. 9.15. Общая сумма начисленных штрафов за неисполнение или ненадлежащее исполнение Поставщиком consultantplus://offline/ref=1B0C29B26B665B7B3343FD89131656AF89E381CAE42FCCBC0CE22343E138Y3L consultantplus://offline/ref=1B0C29B26B665B7B3343FD89131656AF89E387C8EC27CCBC0CE22343E18319AF0AA11BBDEC0369CF3FYBL consultantplus://offline/ref=1B0C29B26B665B7B3343FD89131656AF89E387C8EC27CCBC0CE22343E18319AF0AA11BBDEC0369CF3FYBL обязательств, предусмотренных Контрактом, не может превышать цену Контракта. 10.ОБЕСПЕЧЕНИЕ ИСПОЛНЕНИЯ КОНТРАКТА 10.1.Поставщик \n",
              "<mark class=\"entity\" style=\"background: #ddd; padding: 0.45em 0.6em; margin: 0 0.25em; line-height: 1; border-radius: 0.35em;\">\n",
              "    при заключении Контракта должен предоставить Заказчику обеспечение исполнения Контракта в размере 10 % начальной (максимальной) цены контракта\n",
              "    <span style=\"font-size: 0.8em; font-weight: bold; line-height: 1; border-radius: 0.35em; vertical-align: middle; margin-left: 0.5rem\">обеспечение исполнения контракта</span>\n",
              "</mark>\n",
              " – 10 080,00 руб. 10.2. В случае если предложенная Поставщиком цена Контракта снижена на 25 % и более по отношению к начальной (максимальной) цене контракта, обеспечение исполнения Контракта предоставляется в соответствии со статьей 37 Федерального закона о контрактной системе в размере ____________ руб. 10.3. Исполнение Контракта обеспечивается предоставлением независимой гарантии, выданной банком, соответствующим требованиям, установленным Правительством Российской Федерации, и включенным в перечень, предусмотренный частью 1.2 статьи 45 Федерального закона о контрактной системе, и соответствующей требованиям статьи 45 Федерального закона о контрактной системе, или внесением денежных средств на указанный Заказчиком счет, на котором в соответствии с законодательством Российской Федерации учитываются операции со средствами, поступающими Заказчику. Способ обеспечения исполнения Контракта, срок действия независимой гарантии определяются в соответствии с требованиями Федерального закона о контрактной систе Спецификация</div></span>"
            ]
          },
          "metadata": {}
        },
        {
          "output_type": "display_data",
          "data": {
            "text/plain": [
              "<IPython.core.display.HTML object>"
            ],
            "text/html": [
              "<span class=\"tex2jax_ignore\"><div class=\"entities\" style=\"line-height: 2.5; direction: ltr\">Государственное автономное учреждение здравоохранения Тюменской области «Многопрофильный консультативно-диагностический центр» Утверждаю Электронной подписью Заместитель главного врача ГАУЗ ТО «МКДЦ» ____________________ Ю.В. Стрельникова « 05 » сентября 2022 года ДОКУМЕНТАЦИЯ о проведении вор, обеспечения исполнения договора. Исполнение договора должно обеспечиваться внесением денежных средств на указанный заказчиком счет, на котором в соответствии с законодательством Российской Федерации учитываются операции со средствами, поступающими заказчику либо предоставлением независимой гарантии. \n",
              "<mark class=\"entity\" style=\"background: #ddd; padding: 0.45em 0.6em; margin: 0 0.25em; line-height: 1; border-radius: 0.35em;\">\n",
              "    Размер обеспечения исполнения договора устанавливается в р. 7 Информационной карты аукциона.\n",
              "    <span style=\"font-size: 0.8em; font-weight: bold; line-height: 1; border-radius: 0.35em; vertical-align: middle; margin-left: 0.5rem\">обеспечение исполнения контракта</span>\n",
              "</mark>\n",
              " Реквизиты счета заказчика для предоставления обеспечения исполнения договора в виде внесения денежных средств: ГАУЗ ТО «МКДЦ» ИНН 7203116229 КПП 720301001 Департамент финансов Тюменской области (ГАУЗ ТО «Многопрофильный консультативно-диагностический центр» л/с ЛС001151102КОДЦ) р/с 03224643710000006700 к/с 40102810945370000060 ОТДЕЛЕНИЕ ТЮМЕНЬ БАНКА РОССИИ / УФК по Тюменской области г. Тюмень БИК 017102101 ОКВЭД 86.21 ОКПО 57420354 ОГРН 1027200809536 ОКТМО 71701000 Если в документации или извещении о закупке, участниками которой могут быть только субъекты малого и среднего предпринимательства, установлено требование к обеспечению исполнения договора, размер такого обеспечения: а) не может превышать 5 % процентов начальной (максимальной) цены договора (цены лота), если договором не предусмотрена выплата аванса; б) устанавливается в размере аванса, если договором предусмотрена выплата аванса Если в документации о закупке, участниками которых являются только субъекты малого и среднего предпринимательства, установлено требование к обеспечению исполнения договора, такое обеспечение может предоставляться участником закупки по его выбору путем внесения денежных средств на счет, указанный заказчиком в документации или извещении о закупке или путем предоставления независимой гарантии. Независимая гарантия, предоставляемая в качестве обеспечения исполнения договора в конкурентной закупке с участием субъектов малого и среднего предпринимательства, должна соответствовать следующим требованиям: 1) независимая гарантия должна быть выдана гарантом, предусмотренным частью 1 статьи 45 Федерального закона от 5 апреля 2013 года № 44-ФЗ &quot;О контрактной системе в сфере закупок товаров, работ, услуг для обеспечения государственных и муниципальных нужд&quot;; 2) информац Единица измерения товара Количество 15</div></span>"
            ]
          },
          "metadata": {}
        },
        {
          "output_type": "display_data",
          "data": {
            "text/plain": [
              "<IPython.core.display.HTML object>"
            ],
            "text/html": [
              "<span class=\"tex2jax_ignore\"><div class=\"entities\" style=\"line-height: 2.5; direction: ltr\">ПРОЕКТ ДОГОВОРА ПОСТАВКИ №___ г. Псков «______»________2022 г. _____________________________, именуемое в дальнейшем «Поставщик», в лице ____________________________________________________, действующего на основании ___________________________________________________________, с одной Стороны и ____________________________________, именуемое в дальнейшем «Покупатель», в ганизационно-распорядительными документами ПАО «Россети Северо-Запад», с учетом требований действующего законодательства РФ. Раздел II может быть включен в договор (при наличии оснований) в качестве как дополнительного, так и основного обеспечения.] I. Настоящая редакция раздела подлежит обязательному включению в Договор в случаях если стоимость Договора превышает 30 млн. руб. без учета НДС и/или в случае подачи участником закупки, признанным победителем, аномально низкого ценового предложения (предложение на 25 % и более ниже начальной (максимальной) цены Договора (цены лота). В случае отсутствия указанных абзацем выше оснований данный раздел подлежит исключению из Договора. 10.1. Покупателем устанавливается обеспечение исполнения обязательств Поставщиком по Договору. \n",
              "<mark class=\"entity\" style=\"background: #ddd; padding: 0.45em 0.6em; margin: 0 0.25em; line-height: 1; border-radius: 0.35em;\">\n",
              "    Размер обеспечения исполнения указанных обязательств (далее по тексту также – Сумма обеспечения исполнения) составляет _____________\n",
              "    <span style=\"font-size: 0.8em; font-weight: bold; line-height: 1; border-radius: 0.35em; vertical-align: middle; margin-left: 0.5rem\">обеспечение исполнения контракта</span>\n",
              "</mark>\n",
              " (___________ ) рублей (указывается Сумма обеспечения исполнения[footnoteRef:25]). [25: \n",
              "<mark class=\"entity\" style=\"background: #ddd; padding: 0.45em 0.6em; margin: 0 0.25em; line-height: 1; border-radius: 0.35em;\">\n",
              "    Размер обеспечения составляет: а) для договоров стоимостью более 30 млн. руб. без учета НДС - 5% от цены договора в случае отсутствия аномально низкого ценового предложения и 7,5% от цены договора\n",
              "    <span style=\"font-size: 0.8em; font-weight: bold; line-height: 1; border-radius: 0.35em; vertical-align: middle; margin-left: 0.5rem\">обеспечение исполнения контракта</span>\n",
              "</mark>\n",
              ", но не менее 5% от начальной (максимальной) цены договора (цены лота), при подаче участником закупки, признанным победителем, аномально низкого ценового предложения; б) для договоров стоимостью менее 30 млн. руб. без учета НДС – 5% от начальной (максимальной) цены договора (цены лота) при подаче участником закупки, признанным победителем, аномально низкого ценового предложения (размер обеспечения может быть увеличен до 30% по решению закупочной комиссии)] Стороны подтверждают, что указанная выше Сумма обеспечения исполнения обязательств не является задатком, а является способом обеспечения обязательств, предусмотренных (установленных) Сторонами Договора. 10.1.1. Затраты на осуществление обеспечения обязательств Поставщика по Договору производится Поставщиком за счет собственных средств и не компенсируются Покупателем. В зависимости от выбранного Поставщиком способа обеспечения исполнения обязательств, в Приложения Приложение 1 «Правила страхования грузов» Приложение 2 «Форма Заявления на страхование» Покупатель ____________________ «_____»__________________20_ года М.П. Поставщик ____________________ «_____»__________________20_ года М.П.</div></span>"
            ]
          },
          "metadata": {}
        },
        {
          "output_type": "display_data",
          "data": {
            "text/plain": [
              "<IPython.core.display.HTML object>"
            ],
            "text/html": [
              "<span class=\"tex2jax_ignore\"><div class=\"entities\" style=\"line-height: 2.5; direction: ltr\">ИЗВЕЩЕНИЕ № 2492668 о запросе котировок в электронной форме для участия субъектов малого и среднего предпринимательства на поставку автошин для нужд ГУП «Аптечный склад» г. Чита 2022 г. Оглавление 1. Общие положения 1.1.Общие сведения о процедуре запроса котировок 1.2. Правовой статус процедуры и документов 2. Права и обязанности организатора, участника закупки 2.1. Организатор принимает на себя следующие обязанности: 2.2. Организатор вправе: 2.3. \n",
              "<mark class=\"entity\" style=\"background: #ddd; padding: 0.45em 0.6em; margin: 0 0.25em; line-height: 1; border-radius: 0.35em;\">\n",
              "    Участник закупки обязан: 2.4.\n",
              "    <span style=\"font-size: 0.8em; font-weight: bold; line-height: 1; border-radius: 0.35em; vertical-align: middle; margin-left: 0.5rem\">обеспечение исполнения контракта</span>\n",
              "</mark>\n",
              " \n",
              "<mark class=\"entity\" style=\"background: #ddd; padding: 0.45em 0.6em; margin: 0 0.25em; line-height: 1; border-radius: 0.35em;\">\n",
              "    Участник закупки вправе: 2.5. Объем прав и обязанностей победителя 3.\n",
              "    <span style=\"font-size: 0.8em; font-weight: bold; line-height: 1; border-radius: 0.35em; vertical-align: middle; margin-left: 0.5rem\">обеспечение исполнения контракта</span>\n",
              "</mark>\n",
              " Порядок проведения запроса котировок в электронной форме 6 3.1. Извещение и извещение о проведении запроса котировок 3.2. Состав заявки: 3.3. Требования к описанию участниками закупки поставляемого товара, выполняемых работ, оказываемых услуг 3.4. Требования к языку заявки 3.5. Требования к валюте заявки 3.6. Требования к оформлению документов, входящих в состав заявки 3.7. Подача заявок, прием заявок 3.8. Изменение и отзыв заявок 3.9. Открытие &quot;___&quot;______________ ____ г. Субъект персональных данных: __________________/_________________ (подпись) (Ф.И.О.) -------------------------------- 24</div></span>"
            ]
          },
          "metadata": {}
        }
      ]
    },
    {
      "cell_type": "markdown",
      "source": [
        "Резюмируя просмотренные данные, можно сделать вывод, что модель хорошо предсказала для data_test[15] (не сосем полно, но суть передает хорошо), а вот с остальными данными сложнее. Для data_test[141] и data_test[178] нужно разбираться в контексте данных, чтобы понять, что действительно важно. А в data_test[305] вообще не правильное выделение. Там, скорее всего, пропуск. \n",
        "\n",
        "Учитывая, что ни один из примеров не является полностью правильным, на мой взгляд (а в критериях оценки написано, что извлеченный фрагмент должен **полностью** соответствовать выделенному фрагменту), то я просто вынужден пропустить эти примеры. Хотя первый пример очень близок к правильной разметке, я так думаю. "
      ],
      "metadata": {
        "id": "1wHbj4ZwT_oI"
      }
    },
    {
      "cell_type": "markdown",
      "source": [
        "# Формирование тестового файла с предсказаниями информации"
      ],
      "metadata": {
        "id": "L_tUR5KmJo9u"
      }
    },
    {
      "cell_type": "markdown",
      "source": [
        "Учитывая небольшой сравнитальный анализ выше, в итоговые варианты ответов будем включать только информацию, извлеченную 2 моделью (трансформер)"
      ],
      "metadata": {
        "id": "qBTD8X-sXyBH"
      }
    },
    {
      "cell_type": "code",
      "source": [
        "# Еще раз посмотрим на требуемыю структуру данных для ответов, на примере тренировочного файла\n",
        "\n",
        "\n",
        "data_train[:2]"
      ],
      "metadata": {
        "colab": {
          "base_uri": "https://localhost:8080/"
        },
        "id": "5vbeei_ZYEDV",
        "outputId": "16496fc7-7e8c-4a08-f798-d17ede48a902"
      },
      "execution_count": 163,
      "outputs": [
        {
          "output_type": "execute_result",
          "data": {
            "text/plain": [
              "[{'id': 809436509,\n",
              "  'text': 'Извещение о проведении открытого конкурса в электронной форме для закупки №0328300032822000806 Общая информация Номер извещения 0328300032822000806 Наименование объекта закупки Поставка продуктов питания Способ определения поставщика (подрядчика, исполнителя) Открытый конкурс в бль Порядок внесения денежных средств в качестве обеспечения заявки на участие в закупке, а также условия гарантии Обеспечение заявки на участие в закупке может предоставляться участником закупки в виде денежных средств или независимой гарантии, предусмотренной ст. 45 Федерального закона № 44-ФЗ. Выбор способа обеспечения осуществляется участником закупки самостоятельно. Срок действия независимой гарантии должен составлять не менее месяца с даты окончания срока подачи заявок. Обеспечение заявки на участие в закупке предоставляется в соответствии с ч. 5 ст. 44 Федерального закона № 44-ФЗ. Условия независимой гарантии в соответствии со ст. 45 Федерального закона № 44-ФЗ. Реквизиты счета в соответствии с п.16 ч. 1 ст. 42 Закона № 44-ФЗ \"Номер расчётного счёта\" 00000000000000000000 \"Номер лицевого счёта\" См. прилагаемые документы \"БИК\" 000000000 \"Наименование кредитной организации\" \"Номер корреспондентского счета\" Обеспечение исполнения контракта Требуется обеспечение исполнения контракта Размер обеспечения исполнения контракта 6593.25 Российский рубль Порядок обеспечения исполнения контракта, требования к обеспечению Исполнение контракта, гарантийные обязательства могут обеспечиваться предоставлением независимой гарантии, соответствующей требованиям ст. 45 Федерального закона № 44-ФЗ, или внесением денежных средств на указанный заказчиком счет, на котором в соответствии с законодательством Российской Федерации учитываются операции со средствами, поступающими заказчику. Способ обеспечения исполнения контракта, гарантийных обязательств, срок действия независимой гарантии определяются в соответствии с требованиями Федерального закона № 44-ФЗ участником закупки, с которым заключается контракт, самостоятельно. При этом срок действия независимой гарантии должен превышать предусмотренный контрактом срок исполнения обязательств, которые должны быть обеспечены такой независимой гарантией, не менее чем на один месяц, в том числе в случае его изменения в соответствии со ст. 95 Федерального закона № 44-ФЗ. Порядок предоставления и требования о Информация и документы, подтверждающие соответствие участников закупки дополнительным требованиям: 1) исполненный договор; 2) акт приемки оказанных услуг и (или) поставленных товаров, подтверждающий цену оказанных услуг и (или) поставленных товаров 4',\n",
              "  'label': 'обеспечение исполнения контракта',\n",
              "  'extracted_part': {'text': ['Размер обеспечения исполнения контракта 6593.25 Российский рубль'],\n",
              "   'answer_start': [1279],\n",
              "   'answer_end': [1343]}},\n",
              " {'id': 854885310,\n",
              "  'text': 'ТРЕБОВАНИЯ К СОДЕРЖАНИЮ ЗАЯВКИ участника запроса котировок в электронной форме Заявка на участие в запросе котировок в электронной форме должна содержать следующие информацию и документы: 1) об участнике запроса котировок носят на банковский счет, открытый в банке, включенном в перечень, который утвержден распоряжением Правительства Российской Федерации от 13.07.2018 N 1451-р. Требования к банкам, договору специального счета, к порядку использования имеющегося у участника закупки банковского счета в качестве специального счета Правительство РФ установило в постановлении от 30.05.2018 №626. Независимая гарантия должна соответствовать требованиям статьи 45 Закона № 44-ФЗ Реквизиты счета, на котором в соответствии с законодательством Российской Федерации учитываются операции со средствами, поступающими заказчику: Наименование заказчика: Санкт-Петербургское государственное бюджетное учреждение здравоохранения «Городская поликлиника № 95» (СПб ГБУЗ ГП № 95) Реквизиты: ИНН 7817026947, КПП 781701001 Реквизиты банковского счета: Северо-Западное ГУ БАНКА РОССИИ//УФК по г.Санкт-Петербургу, г. Санкт-Петербург БИК 014030106, номер счета банка получателя 03224643400000007200, казначейский счет 40102810945370000005. Поставщик должен предоставить обеспечение исполнения контракта в размере 10 % от цены Контракта. В случае если обеспечение исполнения контракта предоставляется в виде передачи заказчику денежных средств, участник запроса котировок в электронной форме, с которым заключается контракт, перечисляет денежные средства на счет: СПб ГБУЗ ГП №95, ИНН 7817026947, КПП 781701001, Получатель платежа: Комитет финансов СПб ( СПб ГБУЗ ГП № 95, л/с 0531015) Реквизиты банковского счета: Северо-Западное ГУ БАНКА РОССИИ//УФК по г. Санкт-Петербургу, БИК 014030106, номер счета банка получателя 03224643400000007200, к/с 40102810945370000005 В поле 104 платежных документов указывается код бюджетной классификации, имеющий 20 знаков: «00000000000000003510». В платежном поручении в поле \"Назначение платежа\" указывается 510 (ВР) 0531015 Перечисление обеспечения контракта (предмет контракта и номер извещения об осуществлении закупки) НДС не обл. Денежные средства, внесенные в качестве обеспечения исполнения Контракта, в том числе части этих денежных средств в случае уменьшения размера обеспечения исполнения  Сведения, содержащиеся в котировочной заявке участника, не должны допускать двусмысленных толкований.',\n",
              "  'label': 'обеспечение исполнения контракта',\n",
              "  'extracted_part': {'text': ['Поставщик должен предоставить обеспечение исполнения контракта в размере 10 % от цены Контракта.'],\n",
              "   'answer_start': [1222],\n",
              "   'answer_end': [1318]}}]"
            ]
          },
          "metadata": {},
          "execution_count": 163
        }
      ]
    },
    {
      "cell_type": "code",
      "source": [
        "data_test[:2]"
      ],
      "metadata": {
        "colab": {
          "base_uri": "https://localhost:8080/"
        },
        "id": "79urF2ccYH4m",
        "outputId": "b42ba803-ebd4-48bc-8748-0030376f59d4"
      },
      "execution_count": 164,
      "outputs": [
        {
          "output_type": "execute_result",
          "data": {
            "text/plain": [
              "[{'id': 762883279,\n",
              "  'text': 'МУНИЦИПАЛЬНЫЙ КОНТРАКТ № ______ на оказание услуг по техническому обслуживанию и ремонту принтеров и многофункциональных устройств, заправке и восстановлению картриджей (идентификационный код закупки 223861800296886010100100590019511244) г. Ханты-Мансийск «___» ____________ 2022 г.  (или) возмещения убытков причинённых Исполнителем убытков. 6. Обеспечение исполнения контракта 6.1. Исполнение контракта обеспечиваются предоставлением независимой гарантии, выданной банком и соответствующей требованиям Федерального закона от 05.04.2013 № 44-ФЗ «О контрактной системе в сфере закупок товаров, работ, услуг для обеспечения государственных и муниципальных нужд», или внесением денежных средств на указанный заказчиком счет, на котором в соответствии с законодательством Российской Федерации учитываются операции со средствами, поступающими заказчику. Способ обеспечения исполнения контракта, срок действия независимой гарантии определяются в соответствии с требованиями Федерального закона от 05.04.2013 № 44-ФЗ «О контрактной системе в сфере закупок товаров, работ, услуг для обеспечения государственных и муниципальных нужд» участником закупки, с которым заключается контракт, самостоятельно. 6.2. Обеспечение исполнения Контракта предоставляется Заказчику до заключения Контракта. Размер обеспечения исполнения Контракта составляет _______ рублей ____ копеек (5 процентов от цены контракта). Получатель: Комитет по финансам администрации Ханты-Мансийского района (Администрация Ханты-Мансийского района, л/сч 040.01.001.2) ИНН 8618002968 КПП 860101001 Банк плательщика: РКЦ Ханты-Мансийск//УФК по Ханты-Мансийскому автономному округу – Югре г. Ханты-Мансийск, ЕКС 40102810245370000007 БИК 007162163 Казначейский счет 03232643718290008700 В случае заключения контракта по результатам определения Исполнителя в соответствии с пунктом 1 части 1 статьи 30 Федерального закона от 05.04.2013 № 44-ФЗ «О контрактной системе в сфере закупок товаров, работ, услуг для обеспечения государственных и муниципальных нужд» размер обеспечения исполнения контракта, в том числе предоставляемого с учетом положений статьи 37 Федерального закона от 05.04.2013 № 44-ФЗ «О контрактной системе в сфере закупок товаров, работ, услуг для обеспечения государственных и муниципальных нужд», устанавливается от цены, по которой в соответствии с Федерального закона от 05.04.2013 № 44-ФЗ «О контрактной системе в сфере 13.Адреса места нахождения, банковские реквизиты и подписи Сторон ЗАКАЗЧИК: Администрация Ханты-Мансийского района Юридический адрес: 628011, Тюменская область, Ханты-Мансийский автономный округ - Югра, г. Ханты-Мансийск, ул. Гагарина, 214 Почтовый адрес: 628011,',\n",
              "  'label': 'обеспечение исполнения контракта'},\n",
              " {'id': 311837655,\n",
              "  'text': 'Извещение о проведении электронного аукциона для закупки №0124200000622005291 Общая информация Номер извещения 0124200000622005291 Наименование объекта закупки Поставка медицинской мебели Предметом контракта является поставка товара, необходимого для нормального жизнеобеспечения в случаях, ка за счет собственных средств организации Да Финансовое обеспечение закупки Всего: Оплата за 2022 год Оплата за 2023 год Оплата за 2024 год Сумма на последующие годы 541976.34 541976.34 0.00 0.00 0.00 Этапы исполнения контракта Контракт не разделен на этапы исполнения контракта Финансирование за счет собственных средств Итого Сумма контракта (в валюте контракта) на 2022 год на 2023 год на 2024 год на 2025 год 1 2 3 4 541976.34 0 0 0 541976.34 0.00 0.00 0.00 Код видов расходов Сумма контракта (в валюте контракта) на 2022 год на 2023 год на 2024 год на 2025 год 1 2 3 4 5 244 541976.34 0 0 0 Итого 541976.34 0.00 0.00 0.00 Место поставки товара, выполнения работы или оказания услуги 163002, г. Архангельск, пр. Обводный канал, д.7, помещения Заказчика Предусмотрена возможность одностороннего отказа от исполнения контракта в соответствии со ст. 95 Закона № 44-ФЗ Да Обеспечение заявки Обеспечение заявок не требуется Обеспечение исполнения контракта Требуется обеспечение исполнения контракта Размер обеспечения исполнения контракта 10.00% Порядок обеспечения исполнения контракта, требования к обеспечению В соответствии с приложением к извещению об осуществлении закупки Платежные реквизиты \"Номер расчётного счёта\" 03224643110000002400 \"Номер лицевого счёта\" 20246Ц24120 \"БИК\" 011117401 \"Наименование кредитной организации\" ОТДЕЛЕНИЕ АРХАНГЕЛЬСК БАНКА РОССИИ//УФК по Архангельской области и Ненецкому автономному округу г. Архангельск \"Номер корреспондентского счета\" 40102810045370000016 Требования к гарантии качества товара, работы, услуги Требуется гарантия качества товара, работы, услуги Да Информация о требованиях к гарантийному обслуживанию товара в соответствии с проектом контракта Требования к гарантии производителя товара в соответствии с проектом контракта Срок, на который предоставляется гарантия в соответствии с проектом контракта Обеспечение гарантийных обязательств Обеспечение гарантийных обязательств не требуется Информация о банковском и (или) казначейском сопровождении контракта Банковское или казначейское со Извещение о проведении электронного аукциона для закупки №0124200000622005291 Общая информация Номер извещения 0124200000622005291 Наименование объекта закупки Поставка медицинской мебели Предметом контракта является поставка товара, необходимого для нормального жизнеобеспечения в случаях,',\n",
              "  'label': 'обеспечение исполнения контракта'}]"
            ]
          },
          "metadata": {},
          "execution_count": 164
        }
      ]
    },
    {
      "cell_type": "code",
      "source": [
        "# Напишем функцию для получения ответов от модели 2 (Ner-transformer)\n",
        "\n",
        "\n",
        "def NER_transformer_for_text (text, label):\n",
        "  doc = ner_model_2(text) # Получение предсказаний модели\n",
        "\n",
        "  if len(doc.ents) > 1: # Если, модель предлагает 2 и более ответа, то избавляемся путем перепроверки самой моделью\n",
        "    for ent in doc.ents: # Берем первый предложенный вариант и перепроверяем\n",
        "      try_text = ent.text # Получили текст предсказания\n",
        "      start = ent.start_char # Получили стартовый индекс\n",
        "      end = ent.end_char # Получили конечный индекс\n",
        "      try_label = ent.label_ # Получили метку класса\n",
        "\n",
        "      doc_repeat = ner_model_2(text[start:end]) # Перепроверям предсказания, передав только саму строчку с предсказанием\n",
        "      \n",
        "      if doc_repeat != (): # Если предсказания не обнулились, то значит вывод был предсказан верно и он повторился\n",
        "        if label == try_label: # Проверяем метку класса\n",
        "          return {'text': [try_text], 'answer_start': [start],'answer_end': [end]}\n",
        "      else: # Если предсказания не повторились, значит берем следующий элемент из цикла\n",
        "        continue \n",
        "  elif len(doc.ents) == 0: # когда в тексте нет нужной информации\n",
        "    return {'text': [''], 'answer_start': [0],'answer_end': [0]}\n",
        "  else: # выполняется, когда предсказанный элемент всего 1\n",
        "    for ent in doc.ents:\n",
        "      try_text = ent.text\n",
        "      start = ent.start_char\n",
        "      end = ent.end_char\n",
        "      try_label = ent.label_\n",
        "    if label == try_label:\n",
        "      return {'text': [try_text], 'answer_start': [start],'answer_end': [end]}"
      ],
      "metadata": {
        "id": "cGVQBtTKXK2d"
      },
      "execution_count": 183,
      "outputs": []
    },
    {
      "cell_type": "code",
      "source": [
        "# Проверим работоспособность функции\n",
        "\n",
        "\n",
        "NER_transformer_for_text(data_test[0]['text'], 'обеспечение исполнения контракта')"
      ],
      "metadata": {
        "colab": {
          "base_uri": "https://localhost:8080/"
        },
        "id": "aNajunhobjOA",
        "outputId": "f79048e7-95fa-4a59-b3b0-4699f7af7aea"
      },
      "execution_count": 186,
      "outputs": [
        {
          "output_type": "execute_result",
          "data": {
            "text/plain": [
              "{'text': ['Размер обеспечения исполнения Контракта составляет _______ рублей ____ копеек (5 процентов от цены контракта).'],\n",
              " 'answer_start': [1283],\n",
              " 'answer_end': [1393]}"
            ]
          },
          "metadata": {},
          "execution_count": 186
        }
      ]
    },
    {
      "cell_type": "code",
      "source": [
        "NER_transformer_for_text(data_test[206]['text'], 'обеспечение гарантийных обязательств')"
      ],
      "metadata": {
        "colab": {
          "base_uri": "https://localhost:8080/"
        },
        "id": "23ErwHyjnLNK",
        "outputId": "5152620f-6947-43f4-cba2-c74d262b0fc5"
      },
      "execution_count": 154,
      "outputs": [
        {
          "output_type": "execute_result",
          "data": {
            "text/plain": [
              "{'text': ['Обеспечение гарантийных обязательств установлено в размере 1 % начальной (максимальной) цены контракта, что составляет: 266 577,10 руб*.'],\n",
              " 'answer_start': [1297],\n",
              " 'answer_end': [1433]}"
            ]
          },
          "metadata": {},
          "execution_count": 154
        }
      ]
    },
    {
      "cell_type": "code",
      "source": [
        "# Создадим итоговый файл\n",
        "\n",
        "\n",
        "predictions = []\n",
        "\n",
        "for comment in tqdm(data_test):\n",
        "  comment['extracted_part'] = NER_transformer_for_text(comment['text'], comment['label'])\n",
        "  predictions.append(comment)"
      ],
      "metadata": {
        "colab": {
          "base_uri": "https://localhost:8080/"
        },
        "id": "OLNkBB4oqpF0",
        "outputId": "9da4a7d9-99b7-4a97-8aba-f19ccc1c02cc"
      },
      "execution_count": 187,
      "outputs": [
        {
          "output_type": "stream",
          "name": "stderr",
          "text": [
            "100%|██████████| 318/318 [21:33<00:00,  4.07s/it]\n"
          ]
        }
      ]
    },
    {
      "cell_type": "code",
      "source": [
        "predictions[:2]"
      ],
      "metadata": {
        "colab": {
          "base_uri": "https://localhost:8080/"
        },
        "id": "oUJHcx1psGpN",
        "outputId": "7ce5fa50-506e-4b69-e1c6-ff92c5c28f3d"
      },
      "execution_count": 188,
      "outputs": [
        {
          "output_type": "execute_result",
          "data": {
            "text/plain": [
              "[{'id': 762883279,\n",
              "  'text': 'МУНИЦИПАЛЬНЫЙ КОНТРАКТ № ______ на оказание услуг по техническому обслуживанию и ремонту принтеров и многофункциональных устройств, заправке и восстановлению картриджей (идентификационный код закупки 223861800296886010100100590019511244) г. Ханты-Мансийск «___» ____________ 2022 г.  (или) возмещения убытков причинённых Исполнителем убытков. 6. Обеспечение исполнения контракта 6.1. Исполнение контракта обеспечиваются предоставлением независимой гарантии, выданной банком и соответствующей требованиям Федерального закона от 05.04.2013 № 44-ФЗ «О контрактной системе в сфере закупок товаров, работ, услуг для обеспечения государственных и муниципальных нужд», или внесением денежных средств на указанный заказчиком счет, на котором в соответствии с законодательством Российской Федерации учитываются операции со средствами, поступающими заказчику. Способ обеспечения исполнения контракта, срок действия независимой гарантии определяются в соответствии с требованиями Федерального закона от 05.04.2013 № 44-ФЗ «О контрактной системе в сфере закупок товаров, работ, услуг для обеспечения государственных и муниципальных нужд» участником закупки, с которым заключается контракт, самостоятельно. 6.2. Обеспечение исполнения Контракта предоставляется Заказчику до заключения Контракта. Размер обеспечения исполнения Контракта составляет _______ рублей ____ копеек (5 процентов от цены контракта). Получатель: Комитет по финансам администрации Ханты-Мансийского района (Администрация Ханты-Мансийского района, л/сч 040.01.001.2) ИНН 8618002968 КПП 860101001 Банк плательщика: РКЦ Ханты-Мансийск//УФК по Ханты-Мансийскому автономному округу – Югре г. Ханты-Мансийск, ЕКС 40102810245370000007 БИК 007162163 Казначейский счет 03232643718290008700 В случае заключения контракта по результатам определения Исполнителя в соответствии с пунктом 1 части 1 статьи 30 Федерального закона от 05.04.2013 № 44-ФЗ «О контрактной системе в сфере закупок товаров, работ, услуг для обеспечения государственных и муниципальных нужд» размер обеспечения исполнения контракта, в том числе предоставляемого с учетом положений статьи 37 Федерального закона от 05.04.2013 № 44-ФЗ «О контрактной системе в сфере закупок товаров, работ, услуг для обеспечения государственных и муниципальных нужд», устанавливается от цены, по которой в соответствии с Федерального закона от 05.04.2013 № 44-ФЗ «О контрактной системе в сфере 13.Адреса места нахождения, банковские реквизиты и подписи Сторон ЗАКАЗЧИК: Администрация Ханты-Мансийского района Юридический адрес: 628011, Тюменская область, Ханты-Мансийский автономный округ - Югра, г. Ханты-Мансийск, ул. Гагарина, 214 Почтовый адрес: 628011,',\n",
              "  'label': 'обеспечение исполнения контракта',\n",
              "  'extracted_part': {'text': ['Размер обеспечения исполнения Контракта составляет _______ рублей ____ копеек (5 процентов от цены контракта).'],\n",
              "   'answer_start': [1283],\n",
              "   'answer_end': [1393]}},\n",
              " {'id': 311837655,\n",
              "  'text': 'Извещение о проведении электронного аукциона для закупки №0124200000622005291 Общая информация Номер извещения 0124200000622005291 Наименование объекта закупки Поставка медицинской мебели Предметом контракта является поставка товара, необходимого для нормального жизнеобеспечения в случаях, ка за счет собственных средств организации Да Финансовое обеспечение закупки Всего: Оплата за 2022 год Оплата за 2023 год Оплата за 2024 год Сумма на последующие годы 541976.34 541976.34 0.00 0.00 0.00 Этапы исполнения контракта Контракт не разделен на этапы исполнения контракта Финансирование за счет собственных средств Итого Сумма контракта (в валюте контракта) на 2022 год на 2023 год на 2024 год на 2025 год 1 2 3 4 541976.34 0 0 0 541976.34 0.00 0.00 0.00 Код видов расходов Сумма контракта (в валюте контракта) на 2022 год на 2023 год на 2024 год на 2025 год 1 2 3 4 5 244 541976.34 0 0 0 Итого 541976.34 0.00 0.00 0.00 Место поставки товара, выполнения работы или оказания услуги 163002, г. Архангельск, пр. Обводный канал, д.7, помещения Заказчика Предусмотрена возможность одностороннего отказа от исполнения контракта в соответствии со ст. 95 Закона № 44-ФЗ Да Обеспечение заявки Обеспечение заявок не требуется Обеспечение исполнения контракта Требуется обеспечение исполнения контракта Размер обеспечения исполнения контракта 10.00% Порядок обеспечения исполнения контракта, требования к обеспечению В соответствии с приложением к извещению об осуществлении закупки Платежные реквизиты \"Номер расчётного счёта\" 03224643110000002400 \"Номер лицевого счёта\" 20246Ц24120 \"БИК\" 011117401 \"Наименование кредитной организации\" ОТДЕЛЕНИЕ АРХАНГЕЛЬСК БАНКА РОССИИ//УФК по Архангельской области и Ненецкому автономному округу г. Архангельск \"Номер корреспондентского счета\" 40102810045370000016 Требования к гарантии качества товара, работы, услуги Требуется гарантия качества товара, работы, услуги Да Информация о требованиях к гарантийному обслуживанию товара в соответствии с проектом контракта Требования к гарантии производителя товара в соответствии с проектом контракта Срок, на который предоставляется гарантия в соответствии с проектом контракта Обеспечение гарантийных обязательств Обеспечение гарантийных обязательств не требуется Информация о банковском и (или) казначейском сопровождении контракта Банковское или казначейское со Извещение о проведении электронного аукциона для закупки №0124200000622005291 Общая информация Номер извещения 0124200000622005291 Наименование объекта закупки Поставка медицинской мебели Предметом контракта является поставка товара, необходимого для нормального жизнеобеспечения в случаях,',\n",
              "  'label': 'обеспечение исполнения контракта',\n",
              "  'extracted_part': {'text': ['Размер обеспечения исполнения контракта 10.00%'],\n",
              "   'answer_start': [1291],\n",
              "   'answer_end': [1337]}}]"
            ]
          },
          "metadata": {},
          "execution_count": 188
        }
      ]
    },
    {
      "cell_type": "code",
      "source": [
        "# Записываем файл в среду colab и скачиваем его\n",
        "\n",
        "\n",
        "write_data('predictions.json', predictions)"
      ],
      "metadata": {
        "id": "sZgnYcnUEbwY"
      },
      "execution_count": 194,
      "outputs": []
    }
  ]
}