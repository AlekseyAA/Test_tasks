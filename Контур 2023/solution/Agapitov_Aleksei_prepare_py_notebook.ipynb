{
  "nbformat": 4,
  "nbformat_minor": 0,
  "metadata": {
    "colab": {
      "provenance": []
    },
    "kernelspec": {
      "name": "python3",
      "display_name": "Python 3"
    },
    "language_info": {
      "name": "python"
    }
  },
  "cells": [
    {
      "cell_type": "code",
      "execution_count": 1,
      "metadata": {
        "colab": {
          "base_uri": "https://localhost:8080/"
        },
        "id": "CRTHt5mPXh39",
        "outputId": "21a0d170-034b-4470-bff2-f6b6396ba079"
      },
      "outputs": [
        {
          "output_type": "stream",
          "name": "stdout",
          "text": [
            "Mounted at /content/gdrive/\n"
          ]
        }
      ],
      "source": [
        "# Подключение к гугл диску для быстрой загрузки данных и сохранения результатов\n",
        "\n",
        "\n",
        "from google.colab import drive\n",
        "drive.mount('/content/gdrive/')"
      ]
    },
    {
      "cell_type": "code",
      "source": [
        "!pip install -U 'spacy[transformers,lookups]'"
      ],
      "metadata": {
        "colab": {
          "base_uri": "https://localhost:8080/"
        },
        "id": "p6N_pEmaYS-y",
        "outputId": "05017a06-8642-4ef0-b755-442536ce1231"
      },
      "execution_count": 5,
      "outputs": [
        {
          "output_type": "stream",
          "name": "stdout",
          "text": [
            "Looking in indexes: https://pypi.org/simple, https://us-python.pkg.dev/colab-wheels/public/simple/\n",
            "Requirement already satisfied: spacy[lookups,transformers] in /usr/local/lib/python3.9/dist-packages (3.5.2)\n",
            "Requirement already satisfied: packaging>=20.0 in /usr/local/lib/python3.9/dist-packages (from spacy[lookups,transformers]) (23.1)\n",
            "Requirement already satisfied: setuptools in /usr/local/lib/python3.9/dist-packages (from spacy[lookups,transformers]) (67.6.1)\n",
            "Requirement already satisfied: requests<3.0.0,>=2.13.0 in /usr/local/lib/python3.9/dist-packages (from spacy[lookups,transformers]) (2.27.1)\n",
            "Requirement already satisfied: spacy-legacy<3.1.0,>=3.0.11 in /usr/local/lib/python3.9/dist-packages (from spacy[lookups,transformers]) (3.0.12)\n",
            "Requirement already satisfied: jinja2 in /usr/local/lib/python3.9/dist-packages (from spacy[lookups,transformers]) (3.1.2)\n",
            "Requirement already satisfied: numpy>=1.15.0 in /usr/local/lib/python3.9/dist-packages (from spacy[lookups,transformers]) (1.22.4)\n",
            "Requirement already satisfied: spacy-loggers<2.0.0,>=1.0.0 in /usr/local/lib/python3.9/dist-packages (from spacy[lookups,transformers]) (1.0.4)\n",
            "Requirement already satisfied: smart-open<7.0.0,>=5.2.1 in /usr/local/lib/python3.9/dist-packages (from spacy[lookups,transformers]) (6.3.0)\n",
            "Requirement already satisfied: preshed<3.1.0,>=3.0.2 in /usr/local/lib/python3.9/dist-packages (from spacy[lookups,transformers]) (3.0.8)\n",
            "Requirement already satisfied: murmurhash<1.1.0,>=0.28.0 in /usr/local/lib/python3.9/dist-packages (from spacy[lookups,transformers]) (1.0.9)\n",
            "Requirement already satisfied: langcodes<4.0.0,>=3.2.0 in /usr/local/lib/python3.9/dist-packages (from spacy[lookups,transformers]) (3.3.0)\n",
            "Requirement already satisfied: pydantic!=1.8,!=1.8.1,<1.11.0,>=1.7.4 in /usr/local/lib/python3.9/dist-packages (from spacy[lookups,transformers]) (1.10.7)\n",
            "Requirement already satisfied: thinc<8.2.0,>=8.1.8 in /usr/local/lib/python3.9/dist-packages (from spacy[lookups,transformers]) (8.1.9)\n",
            "Requirement already satisfied: tqdm<5.0.0,>=4.38.0 in /usr/local/lib/python3.9/dist-packages (from spacy[lookups,transformers]) (4.65.0)\n",
            "Requirement already satisfied: typer<0.8.0,>=0.3.0 in /usr/local/lib/python3.9/dist-packages (from spacy[lookups,transformers]) (0.7.0)\n",
            "Requirement already satisfied: cymem<2.1.0,>=2.0.2 in /usr/local/lib/python3.9/dist-packages (from spacy[lookups,transformers]) (2.0.7)\n",
            "Requirement already satisfied: catalogue<2.1.0,>=2.0.6 in /usr/local/lib/python3.9/dist-packages (from spacy[lookups,transformers]) (2.0.8)\n",
            "Requirement already satisfied: srsly<3.0.0,>=2.4.3 in /usr/local/lib/python3.9/dist-packages (from spacy[lookups,transformers]) (2.4.6)\n",
            "Requirement already satisfied: wasabi<1.2.0,>=0.9.1 in /usr/local/lib/python3.9/dist-packages (from spacy[lookups,transformers]) (1.1.1)\n",
            "Requirement already satisfied: pathy>=0.10.0 in /usr/local/lib/python3.9/dist-packages (from spacy[lookups,transformers]) (0.10.1)\n",
            "Collecting spacy-lookups-data<1.1.0,>=1.0.3\n",
            "  Downloading spacy_lookups_data-1.0.3-py2.py3-none-any.whl (98.5 MB)\n",
            "\u001b[2K     \u001b[90m━━━━━━━━━━━━━━━━━━━━━━━━━━━━━━━━━━━━━━━━\u001b[0m \u001b[32m98.5/98.5 MB\u001b[0m \u001b[31m6.9 MB/s\u001b[0m eta \u001b[36m0:00:00\u001b[0m\n",
            "\u001b[?25hCollecting spacy-transformers<1.3.0,>=1.1.2\n",
            "  Downloading spacy_transformers-1.2.3-cp39-cp39-manylinux_2_17_x86_64.manylinux2014_x86_64.whl (193 kB)\n",
            "\u001b[2K     \u001b[90m━━━━━━━━━━━━━━━━━━━━━━━━━━━━━━━━━━━━━━\u001b[0m \u001b[32m193.7/193.7 kB\u001b[0m \u001b[31m21.9 MB/s\u001b[0m eta \u001b[36m0:00:00\u001b[0m\n",
            "\u001b[?25hRequirement already satisfied: typing-extensions>=4.2.0 in /usr/local/lib/python3.9/dist-packages (from pydantic!=1.8,!=1.8.1,<1.11.0,>=1.7.4->spacy[lookups,transformers]) (4.5.0)\n",
            "Requirement already satisfied: idna<4,>=2.5 in /usr/local/lib/python3.9/dist-packages (from requests<3.0.0,>=2.13.0->spacy[lookups,transformers]) (3.4)\n",
            "Requirement already satisfied: urllib3<1.27,>=1.21.1 in /usr/local/lib/python3.9/dist-packages (from requests<3.0.0,>=2.13.0->spacy[lookups,transformers]) (1.26.15)\n",
            "Requirement already satisfied: charset-normalizer~=2.0.0 in /usr/local/lib/python3.9/dist-packages (from requests<3.0.0,>=2.13.0->spacy[lookups,transformers]) (2.0.12)\n",
            "Requirement already satisfied: certifi>=2017.4.17 in /usr/local/lib/python3.9/dist-packages (from requests<3.0.0,>=2.13.0->spacy[lookups,transformers]) (2022.12.7)\n",
            "Collecting transformers<4.29.0,>=3.4.0\n",
            "  Downloading transformers-4.28.1-py3-none-any.whl (7.0 MB)\n",
            "\u001b[2K     \u001b[90m━━━━━━━━━━━━━━━━━━━━━━━━━━━━━━━━━━━━━━━━\u001b[0m \u001b[32m7.0/7.0 MB\u001b[0m \u001b[31m48.2 MB/s\u001b[0m eta \u001b[36m0:00:00\u001b[0m\n",
            "\u001b[?25hRequirement already satisfied: torch>=1.8.0 in /usr/local/lib/python3.9/dist-packages (from spacy-transformers<1.3.0,>=1.1.2->spacy[lookups,transformers]) (2.0.0+cu118)\n",
            "Collecting spacy-alignments<1.0.0,>=0.7.2\n",
            "  Downloading spacy_alignments-0.9.0-cp39-cp39-manylinux_2_17_x86_64.manylinux2014_x86_64.whl (1.2 MB)\n",
            "\u001b[2K     \u001b[90m━━━━━━━━━━━━━━━━━━━━━━━━━━━━━━━━━━━━━━━━\u001b[0m \u001b[32m1.2/1.2 MB\u001b[0m \u001b[31m54.6 MB/s\u001b[0m eta \u001b[36m0:00:00\u001b[0m\n",
            "\u001b[?25hRequirement already satisfied: confection<1.0.0,>=0.0.1 in /usr/local/lib/python3.9/dist-packages (from thinc<8.2.0,>=8.1.8->spacy[lookups,transformers]) (0.0.4)\n",
            "Requirement already satisfied: blis<0.8.0,>=0.7.8 in /usr/local/lib/python3.9/dist-packages (from thinc<8.2.0,>=8.1.8->spacy[lookups,transformers]) (0.7.9)\n",
            "Requirement already satisfied: click<9.0.0,>=7.1.1 in /usr/local/lib/python3.9/dist-packages (from typer<0.8.0,>=0.3.0->spacy[lookups,transformers]) (8.1.3)\n",
            "Requirement already satisfied: MarkupSafe>=2.0 in /usr/local/lib/python3.9/dist-packages (from jinja2->spacy[lookups,transformers]) (2.1.2)\n",
            "Requirement already satisfied: networkx in /usr/local/lib/python3.9/dist-packages (from torch>=1.8.0->spacy-transformers<1.3.0,>=1.1.2->spacy[lookups,transformers]) (3.1)\n",
            "Requirement already satisfied: filelock in /usr/local/lib/python3.9/dist-packages (from torch>=1.8.0->spacy-transformers<1.3.0,>=1.1.2->spacy[lookups,transformers]) (3.11.0)\n",
            "Requirement already satisfied: sympy in /usr/local/lib/python3.9/dist-packages (from torch>=1.8.0->spacy-transformers<1.3.0,>=1.1.2->spacy[lookups,transformers]) (1.11.1)\n",
            "Requirement already satisfied: triton==2.0.0 in /usr/local/lib/python3.9/dist-packages (from torch>=1.8.0->spacy-transformers<1.3.0,>=1.1.2->spacy[lookups,transformers]) (2.0.0)\n",
            "Requirement already satisfied: lit in /usr/local/lib/python3.9/dist-packages (from triton==2.0.0->torch>=1.8.0->spacy-transformers<1.3.0,>=1.1.2->spacy[lookups,transformers]) (16.0.1)\n",
            "Requirement already satisfied: cmake in /usr/local/lib/python3.9/dist-packages (from triton==2.0.0->torch>=1.8.0->spacy-transformers<1.3.0,>=1.1.2->spacy[lookups,transformers]) (3.25.2)\n",
            "Requirement already satisfied: regex!=2019.12.17 in /usr/local/lib/python3.9/dist-packages (from transformers<4.29.0,>=3.4.0->spacy-transformers<1.3.0,>=1.1.2->spacy[lookups,transformers]) (2022.10.31)\n",
            "Requirement already satisfied: pyyaml>=5.1 in /usr/local/lib/python3.9/dist-packages (from transformers<4.29.0,>=3.4.0->spacy-transformers<1.3.0,>=1.1.2->spacy[lookups,transformers]) (6.0)\n",
            "Collecting huggingface-hub<1.0,>=0.11.0\n",
            "  Downloading huggingface_hub-0.13.4-py3-none-any.whl (200 kB)\n",
            "\u001b[2K     \u001b[90m━━━━━━━━━━━━━━━━━━━━━━━━━━━━━━━━━━━━━━\u001b[0m \u001b[32m200.1/200.1 kB\u001b[0m \u001b[31m23.3 MB/s\u001b[0m eta \u001b[36m0:00:00\u001b[0m\n",
            "\u001b[?25hCollecting tokenizers!=0.11.3,<0.14,>=0.11.1\n",
            "  Downloading tokenizers-0.13.3-cp39-cp39-manylinux_2_17_x86_64.manylinux2014_x86_64.whl (7.8 MB)\n",
            "\u001b[2K     \u001b[90m━━━━━━━━━━━━━━━━━━━━━━━━━━━━━━━━━━━━━━━━\u001b[0m \u001b[32m7.8/7.8 MB\u001b[0m \u001b[31m54.4 MB/s\u001b[0m eta \u001b[36m0:00:00\u001b[0m\n",
            "\u001b[?25hRequirement already satisfied: mpmath>=0.19 in /usr/local/lib/python3.9/dist-packages (from sympy->torch>=1.8.0->spacy-transformers<1.3.0,>=1.1.2->spacy[lookups,transformers]) (1.3.0)\n",
            "Installing collected packages: tokenizers, spacy-lookups-data, spacy-alignments, huggingface-hub, transformers, spacy-transformers\n",
            "Successfully installed huggingface-hub-0.13.4 spacy-alignments-0.9.0 spacy-lookups-data-1.0.3 spacy-transformers-1.2.3 tokenizers-0.13.3 transformers-4.28.1\n"
          ]
        }
      ]
    },
    {
      "cell_type": "code",
      "source": [
        "import pickle\n",
        "\n",
        "import spacy\n",
        "import spacy_transformers"
      ],
      "metadata": {
        "id": "YRcAjuQ9YEUl"
      },
      "execution_count": 6,
      "outputs": []
    },
    {
      "cell_type": "code",
      "source": [
        "# Загружаем лучшую модель 2\n",
        "\n",
        "\n",
        "ner_model_2 = spacy.load(r'/content/gdrive/MyDrive/Colab Notebooks/Тестовые задания/Итоговая версия/output_gpu/model-best')"
      ],
      "metadata": {
        "id": "gcDGn5W9YAhQ"
      },
      "execution_count": 7,
      "outputs": []
    },
    {
      "cell_type": "code",
      "source": [
        "# Пересохраняем модель в pickle\n",
        "\n",
        "\n",
        "with open('/content/gdrive/MyDrive/Colab Notebooks/Тестовые задания/Итоговая версия/model.pickle', 'wb') as file:\n",
        "    pickle.dump(ner_model_2, file)"
      ],
      "metadata": {
        "id": "UWwn8AyRY1k3"
      },
      "execution_count": 9,
      "outputs": []
    },
    {
      "cell_type": "code",
      "source": [
        "'''\n",
        "Подготовленный файл .py (нужно только изменить адрес расположения загружаемой модели)\n",
        "'''\n",
        "\n",
        "# загружаем нужные библиотеки\n",
        "\n",
        "\n",
        "import pickle\n",
        "import spacy\n",
        "\n",
        "# Добавляем информационную шапку для удобства работы\n",
        "\n",
        "\n",
        "print('Информация по работе с программой:\\n')\n",
        "print('- Данная модель предназначена для извлечения нужной иноформации из вставленного текста и указанной метки класса. \\n')\n",
        "print('- Исходя из результата работы модели, вы получите сообщение о результе предсказания. \\n')\n",
        "print('- Загрузка модели займет немного времени. Можете пока подготовить данные для вставки. \\n')\n",
        "\n",
        "# Загружаем модель Ner-transformer\n",
        "\n",
        "\n",
        "with open('/content/gdrive/MyDrive/Colab Notebooks/Тестовые задания/Итоговая версия/model.pickle', 'rb') as file:\n",
        "    ner_model_2 = pickle.load(file)\n",
        "\n",
        "print('___Для выхода из программы введите в одном из предложенных полей для ввода Q___')\n",
        "\n",
        "\n",
        "def NER_transformer_for_text (text, label):\n",
        "  doc = ner_model_2(text) # Получение предсказаний модели\n",
        "\n",
        "  if len(doc.ents) > 1: # Если, модель предлагает 2 и более ответа, то избавляемся путем перепроверки самой моделью\n",
        "    for ent in doc.ents: # Берем первый предложенный вариант и перепроверяем\n",
        "      try_text = ent.text # Получили текст предсказания\n",
        "      start = ent.start_char # Получили стартовый индекс\n",
        "      end = ent.end_char # Получили конечный индекс\n",
        "      try_label = ent.label_ # Получили метку класса\n",
        "\n",
        "      doc_repeat = ner_model_2(text[start:end]) # Перепроверям предсказания, передав только саму строчку с предсказанием\n",
        "      \n",
        "      if doc_repeat != (): # Если предсказания не обнулились, то значит вывод был предсказан верно и он повторился\n",
        "        if label == try_label: # Проверяем метку класса\n",
        "          print('\\nИзвлечена следующая информация:\\n')\n",
        "          return print([try_text])\n",
        "      else: # Если предсказания не повторились, значит берем следующий элемент из цикла\n",
        "        continue \n",
        "  elif len(doc.ents) == 0: # когда в тексте нет нужной информации\n",
        "    return print('\\nВ предложенном тексте нет нужной информации (или модель не смогла ее найти)\\n')\n",
        "  else: # выполняется, когда предсказанный элемент всего 1\n",
        "    for ent in doc.ents:\n",
        "      try_text = ent.text\n",
        "      start = ent.start_char\n",
        "      end = ent.end_char\n",
        "      try_label = ent.label_\n",
        "    if label == try_label:\n",
        "      print('\\nИзвлечена следующая информация:\\n')\n",
        "      return print([try_text])\n",
        "\n",
        "text_in = ''\n",
        "label_in = ''\n",
        "while not (text_in == 'Q' or label_in == 'Q'):\n",
        "  print('\\nНачинаю новый запрос\\n')\n",
        "  text_in = input('Вставьте текст для анализа: ')\n",
        "  label_in = input('Укажите метку класса: ').lower().strip()\n",
        "\n",
        "  NER_transformer_for_text(text_in, label_in)\n",
        "\n",
        "  print('\\n___Поиск завершен___\\n')\n",
        "  \n",
        "  print('Выполнить извлечение информации для другого текста? \\n')\n",
        "  text_in = input('Введите Y, если Да. Введите Q, если Нет: ')\n",
        "\n",
        "print('Програма завершила работу')"
      ],
      "metadata": {
        "colab": {
          "base_uri": "https://localhost:8080/"
        },
        "id": "ed2ShmYQiQs1",
        "outputId": "22fd1665-ada2-4baf-c639-d5cd2abe7388"
      },
      "execution_count": 39,
      "outputs": [
        {
          "output_type": "stream",
          "name": "stdout",
          "text": [
            "Информация по работе с программой:\n",
            "\n",
            "- Данная модель предназначена для извлечения нужной иноформации из вставленного текста и указанной метки класса. \n",
            "\n",
            "- Исходя из результата работы модели, вы получите сообщение о результе предсказания. \n",
            "\n",
            "- Загрузка модели займет немного времени. Можете пока подготовить данные для вставки. \n",
            "\n",
            "___Для выхода из программы введите в одном из предложенных полей для ввода Q___\n",
            "\n",
            "Начинаю новый запрос\n",
            "\n",
            "Вставьте текст для анализа: ffff\n",
            "Укажите метку класса:      Fffff\n",
            "\n",
            "В предложенном тексте нет нужной информации (или модель не смогла ее найти)\n",
            "\n",
            "\n",
            "___Поиск завершен___\n",
            "\n",
            "Выполнить извлечение информации для другого текста? \n",
            "\n",
            "Введите Y, если Да. Введите Q, если Нет: Y\n",
            "\n",
            "Начинаю новый запрос\n",
            "\n",
            "Вставьте текст для анализа: ие за счет собственных средств Итого Сумма контракта (в валюте контракта) на 2022 год на 2023 год на 2024 год на 2025 год 1 2 3 4 541976.34 0 0 0 541976.34 0.00 0.00 0.00 Код видов расходов Сумма контракта (в валюте контракта) на 2022 год на 2023 год на 2024 год на 2025 год 1 2 3 4 5 244 541976.34 0 0 0 Итого 541976.34 0.00 0.00 0.00 Место поставки товара, выполнения работы или оказания услуги 163002, г. Архангельск, пр. Обводный канал, д.7, помещения Заказчика Предусмотрена возможность одностороннего отказа от исполнения контракта в соответствии со ст. 95 Закона № 44-ФЗ Да Обеспечение заявки Обеспечение заявок не требуется Обеспечение исполнения контракта Требуется обеспечение исполнения контракта Размер обеспечения исполнения контракта 10.00% обеспечение исполнения контракта Порядок обеспечения исполнения контракта, требования к обеспечению В соответствии с приложением к извещению об осуществлении закупки Платежные реквизиты \"Номер расчётного счёта\" 03224643110000002400 \"Номер лицевого счёта\" 20246Ц24120 \"БИК\" 011117401 \"Наименование кредитн\n",
            "Укажите метку класса:        обеспечение исполнения контрактА   \n",
            "\n",
            "Извлечена следующая информация:\n",
            "\n",
            "['Размер обеспечения исполнения контракта 10.00%']\n",
            "\n",
            "___Поиск завершен___\n",
            "\n",
            "Выполнить извлечение информации для другого текста? \n",
            "\n",
            "Введите Y, если Да. Введите Q, если Нет: Q\n",
            "Програма завершила работу\n"
          ]
        }
      ]
    }
  ]
}